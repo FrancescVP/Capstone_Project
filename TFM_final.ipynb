{
 "cells": [
  {
   "cell_type": "markdown",
   "metadata": {
    "id": "OuIDokuZ62hQ"
   },
   "source": [
    "# Autimated detection of Multiple Sclerosis patients by brain connectivity networks"
   ]
  },
  {
   "cell_type": "markdown",
   "metadata": {
    "id": "UQMFtT9b7bGm"
   },
   "source": [
    "## Abstract \n"
   ]
  },
  {
   "cell_type": "markdown",
   "metadata": {
    "id": "o_DGNvJe7rtU"
   },
   "source": [
    "## Index\n",
    "\n",
    "**1. Introduction**\n",
    "\n",
    "**2. Methods**\n",
    "\n",
    "*   2.1: MRI acquistion\n",
    "*   2.2: Data available\n",
    "*   2.3: Parcellation scheme\n",
    "*   2.4: Brain Networks Connectivity\n",
    "** 2.4.1. Structural white matter brain network\n",
    "** 2.4.2. Structural gray matter brain network\n",
    "** 2.4.3. Resting-state functional brain network\n",
    "*   2.5: Data preprocessing steps\n",
    "** 2.5.1. Load data \n",
    "** 2.5.2. Connectivity test (filtering the connections present in less than 60% of the FA-weighted matrices from healthy cohort)\n",
    "** 2.5.3. Age and gender correction\n",
    "** 2.5.4. Data harmonization (ComBat)\n",
    "** 2.5.5. Imputation by the higher prevalence of zero values\n",
    "** 2.5.6. Statistically significant connections with Bonferroni\n",
    "\n",
    "**3. Results**\n",
    "*   3.1: Connectogram\n",
    "*   3.2: Machine learning algorithms to classify between healthy controls and MS patients\n",
    "** 3.2.1. Support Vector Regressor\n",
    "** 3.2.2. Random Forest Classifier\n",
    "** 3.2.3. XGBoost\n",
    "** 3.2.4. Clustering\n",
    "\n",
    "**4. Conclusions**\n"
   ]
  },
  {
   "cell_type": "markdown",
   "metadata": {
    "id": "UMMDD0jU7j6d"
   },
   "source": [
    "## 1. Introduction\n",
    "\n",
    "Multiple sclerosis (MS) is a chronic inflammatory, demyelinating and neurodegenerative disease of the central nervous system characterized by the presence of focal lesions and widespread damage of the normal-appearing white (NAWM) and grey (GM) matter (Lassmann, Brück and Lucchinetti, 2007). MS disease course present substantial heterogeneity in their pathological processes and different patterns of damage have been described  (Mahad, Trapp and Lassmann, 2015; Lassmann, 2018). Indeed, while  the active plaques are often found in early disease, at later stages, smoldering, inactive, and shadow plaques predominate. Also, chronic active lesions are associated with more aggressive disease evolution (Absinta et al., 2019) and while some patients recover completely from relapses others accumulate disability in a short period of time, probably due to differences in remyelination and diffuse neurodegenerative damage. However, the changes observed in conventional MRI are poorly associated with the clinical outcomes and disease evolution, in part due to the inability of conventional imaging to characterize the heterogeneous pathology of normal-appearing brain tissue (NAWM and NAGM).\n",
    "\n",
    " \n",
    "The use of advanced analysis techniques algorithms is expanding the knowledge in MS disease, and has been applied recently to classify between healthy controls and patients (Solana & Martinez-Heras et al., 2019), among different clinical profiles of MS (Zurita et al., 2018), depict disease evolution (Muthuraman et al., 2016) or to characterize the different degree of damage into MS lesions types (Martinez-Heras & Solana et al., 2020). **We hypothesize that the information of morphological, structural and functional network patterns can potentially generate predictive markers to differentiate between healthy controls and MS patients. Contrary to the previous article by (Solana & Martinez-Heras et al., 2019), in this study we are going to use the information of  statistically significant connections instead of graph metrics measures. The clasification method achieved an accuracy around 75-77% to differentiate both cohorts.**   "
   ]
  },
  {
   "cell_type": "markdown",
   "metadata": {
    "id": "Gc7yR4HXummm"
   },
   "source": [
    "## 2. Methods"
   ]
  },
  {
   "cell_type": "markdown",
   "metadata": {
    "id": "DEzD1IV05VPp"
   },
   "source": [
    "### 2.1: MRI acquistion"
   ]
  },
  {
   "cell_type": "markdown",
   "metadata": {
    "id": "Ue14YE5v5ato"
   },
   "source": [
    "MRI acquisition protocols were acquired on a 3T Magnetom Trio scanner (SIEMENS, Erlanger, Germany) using a 32 channel phased-array head coil. In part of the cohort (n=71 participants), the high-resolution three-dimensional Magnetization-Prepared Rapid Acquisition with Gradient Echo (3D-MPRAGE) was acquired with TR = 1800 ms; TE = 3.01 ms; TI = 900 ms; 240 sagittal slices with 0.94 mm isotropic voxel size and a 256 × 256 matrix size; and the three-dimensional Fluid Attenuated Inversion Recovery (3D-T2 FLAIR) with TR = 5000 ms; TE = 304 ms; TI = 1800 ms; 192 sagittal slices with 0.94 mm isotropic voxel size and a 256 × 256 matrix size. The Diffusion-Weighted Imaging (DWI) had a TR = 14800 ms; TE = 103 ms; 100 contiguous axial slices; 1.5 mm isotropic voxel size; a 154 × 154 matrix size; b value = 1000 s/ mm2; 60 diffusion encoding directions and a single baseline image acquired at 0 s/mm2. The reminding participants (n=94) had a 3D-structural image with TR = 1970 ms; TE = 2.41 ms; TI = 1050 ms; 208 sagittal slices with 0.9 mm isotropic voxel size and a 256 x 256 matrix size; and the 3D-T2 FLAIR with TR = 5000 ms; TE = 393 ms; TI = 1800 ms; 208 sagittal slices with 0.9 mm isotropic voxel size and a 256 × 256 matrix size. The DWI acquisition protocol was as follows: TR = 12600 ms; TE = 112 ms; 80 contiguous axial slices; 2 mm isotropic voxel size; a 120 × 120 matrix size; b value = 1500 s/ mm2; 70 diffusion encoding directions and a single baseline image acquired at 0 s/mm2. In addition, field map images were generated in all participants to correct the distortions caused by field inhomogeneities (TE 1/TE 2 = 4.92/7.38 ms, with the same slice prescription, slice thickness and field of view as the DWI sequence).\n",
    "\n",
    "For both cohorts, it was acquired the same protocol of resting-state functional MRI (rs-fMRI) using BOLD EPI pulse sequence (fat saturation), with TR = 2000 ms; TE = 19 ms; field of view = 220 mm; 40 contiguous axial slices with 1.7 x 1.7 x 3 mm voxel size; GRAPPA-factor of 4 and a total of 450 frames (TA = 15:14 minutes). Magnetic resonance acquisition and processing"
   ]
  },
  {
   "cell_type": "markdown",
   "metadata": {
    "id": "z5rXcKw65lvP"
   },
   "source": [
    "### 2.2: Data available"
   ]
  },
  {
   "cell_type": "markdown",
   "metadata": {
    "id": "VIaDr0HI5ryO"
   },
   "source": [
    "Patients with relapsing-remitting or secondary progressive MS aged between 18 and 65 years were recruited at the MS Unit in the Hospital Clinic of Barcelona. We included a cohort of 147 patients with a diagnosis of MS according to 2010 McDonald criteria (Polman et al. 2011) and 18 HV without a previous or present history of neurological or psychiatric diseases. Physical disability was evaluated using the Expanded Disability Status Scale (EDSS). The Ethics Committee of the Hospital Clinic of Barcelona approved the study, and all participants signed an informed consent. Acquisition details"
   ]
  },
  {
   "cell_type": "markdown",
   "metadata": {
    "id": "O2bAkjd95xLe"
   },
   "source": [
    "### 2.3: Parcellation scheme"
   ]
  },
  {
   "cell_type": "markdown",
   "metadata": {
    "id": "dyClh5dX6Pq0"
   },
   "source": [
    "3D-MPRAGE and 3D-FLAIR images were used to perform the delineation of WM lesions through JIM7 software (http://www.xinapse.com/). Subsequently, WM lesions were filled in 3D-MPRAGE with the intensity of the non-lesional neighboring voxels to improve the registration and segmentation processing of MS patients (Battaglini et al. 2012).   Lesion filling approach was used to parcellate the cortex into 62 GM regions and 14 subcortical regions by Mindboggle software and FSL-FIRST packages respectively (Klein et al. 2017) (Patenaude et al. 2011) . Depiction of those brain regions are considered as the nodes of a brain network.    \n"
   ]
  },
  {
   "cell_type": "markdown",
   "metadata": {
    "id": "ryCYhhmq7ULW"
   },
   "source": [
    "### 2.4: Brain Networks Connectivity"
   ]
  },
  {
   "cell_type": "markdown",
   "metadata": {
    "id": "F0xq50QT8RiF"
   },
   "source": [
    "#### 2.4.1: Structural white matter brain network\n",
    "\n",
    "To build FA-weighted connectivity matrix is necessary a DWI preprocessing pipeline has been previously described and well-established by (Tournier et al. 2019). Accordingly, the major components of this pipeline included a MP-PCA denoising, Gibbs ringing removal, eddy current and motion correction, geometrically unwarping procedure and lastly a bias field correction. After these corrections, fractional anisotropy (FA) scalar map was computed from the diffusion tensor model using FSL’s DTIFIT (Basser et al. 1994). The connectome construction derived from FA-weighted indices was generated using the result of the high-order probabilistic streamline tractography between distinct cortical and subcortical GM areas (nodes) of the whole brain. To guarantee a biologically plausible reconstructed streamlines, the process of connectome reconstruction has incorporated the anatomical constrained tractography (ACT) framework, a set of 6 million streamlines have been selected and an anatomical exclusion criteria post-processing (Llufriu et al. 2017) (Martínez-Heras et al. 2015). The parcellation scheme (76 nodes) from anatomical image was aligned to the FA map to determine which streamlines connections need to be selected between pairs of nodes for creating the structural connectome. Finally, we defined the mean value of the FA metric along each connection to generate the FA-weighted adjacency matrix (Solana et al. 2019).\n",
    "\n"
   ]
  },
  {
   "cell_type": "markdown",
   "metadata": {
    "id": "Rgi6JDHt8s77"
   },
   "source": [
    "#### 2.4.2: Structural gray matter brain network\n",
    "\n",
    "We generated another structural network based on the similarity of GM morphological patterns according to the defined anatomical parcellation scheme (Tijms et al. 2012). To estimate this GM connectivity network, we applied an automated pipeline that included two main steps: (1) Reslicing each individual’s native space GM segmentation to 2mm isotropic voxel to later on define small regions of interest corresponding to 3 x 3 x 3 voxel cube (2) Performing statistical similarity (Pearson’s correlation coefficient) along the corresponding voxel cubes. All correlations corresponding for each node, which between them added up, were stored into a matrix to construct the GM network.    "
   ]
  },
  {
   "cell_type": "markdown",
   "metadata": {
    "id": "-YfcreAl8-Iy"
   },
   "source": [
    "#### 2.4.3: Resting-state functional brain network\n",
    "\n",
    "Brain signal correlation/synchronization through resting-state functional connectivity (rs-fMRI) matrix was obtained following the analysis method (Chou et al. 2012). This includes several preprocessing steps including slice time and motion correction, spatial normalization to standard space and band-pass filtering to retain frequencies between 0.001 and 0.08 Hz using FSL tools (Jenkinson et al. 2012). Finally, the parcellation nodes were used to extract the average time-series for each of the 76 regions resulting in a functional connectivity matrix.   \n",
    "\n"
   ]
  },
  {
   "cell_type": "markdown",
   "metadata": {
    "id": "PPBFIgIhDAfo"
   },
   "source": [
    "### 2.5: Data preprocessing steps"
   ]
  },
  {
   "cell_type": "markdown",
   "metadata": {
    "id": "GYXY-m5NGVYv"
   },
   "source": [
    "#### 2.5.1. Load data"
   ]
  },
  {
   "cell_type": "markdown",
   "metadata": {
    "id": "J5F8WbuA5i_T"
   },
   "source": [
    "As described above, data obtained from study participants were stored in three matrices"
   ]
  },
  {
   "cell_type": "code",
   "execution_count": null,
   "metadata": {
    "colab": {
     "base_uri": "https://localhost:8080/"
    },
    "id": "Jzps0Vq5Hv50",
    "outputId": "b069aa06-9688-4a58-f584-53ab95f60a2a"
   },
   "outputs": [],
   "source": [
    "##Activate Drive\n",
    "#from google.colab import drive\n",
    "#drive.mount('/content/gdrive')"
   ]
  },
  {
   "cell_type": "code",
   "execution_count": null,
   "metadata": {
    "colab": {
     "base_uri": "https://localhost:8080/"
    },
    "id": "Pe0bx5N_H_bD",
    "outputId": "859eeab3-160c-40f1-849b-b4f3b66d3870"
   },
   "outputs": [],
   "source": [
    "#cd '/content/gdrive/MyDrive/Colab Notebooks/UB/PostGrau/TFM/Capstone_Project'"
   ]
  },
  {
   "cell_type": "code",
   "execution_count": 3,
   "metadata": {
    "id": "FBmP0i5XGas3"
   },
   "outputs": [],
   "source": [
    "# Data Load Code\n",
    "from load_data import data_loader\n",
    "\n",
    "# Preprocessing functions\n",
    "from preprocessing import connectivity_test, linear_correction, harmonization\n",
    "from sklearn.model_selection import train_test_split, ShuffleSplit, KFold, StratifiedKFold\n",
    "from sklearn.preprocessing import StandardScaler\n",
    "from sklearn.pipeline import Pipeline"
   ]
  },
  {
   "cell_type": "code",
   "execution_count": 4,
   "metadata": {
    "id": "MVKI7lyvHoAO"
   },
   "outputs": [],
   "source": [
    "full_dataset, fa, func, gm = data_loader(unzip=False)"
   ]
  },
  {
   "cell_type": "code",
   "execution_count": 5,
   "metadata": {
    "colab": {
     "base_uri": "https://localhost:8080/",
     "height": 304
    },
    "id": "nYzKLENtIM_o",
    "outputId": "68cedb3f-a9f4-4635-c434-cb6d5d215ac8"
   },
   "outputs": [
    {
     "data": {
      "text/html": [
       "<div>\n",
       "<style scoped>\n",
       "    .dataframe tbody tr th:only-of-type {\n",
       "        vertical-align: middle;\n",
       "    }\n",
       "\n",
       "    .dataframe tbody tr th {\n",
       "        vertical-align: top;\n",
       "    }\n",
       "\n",
       "    .dataframe thead th {\n",
       "        text-align: right;\n",
       "    }\n",
       "</style>\n",
       "<table border=\"1\" class=\"dataframe\">\n",
       "  <thead>\n",
       "    <tr style=\"text-align: right;\">\n",
       "      <th></th>\n",
       "      <th>fa-ctx-lh-caudalanteriorcingulate/ctx-lh-caudalmiddlefrontal</th>\n",
       "      <th>fa-ctx-lh-caudalanteriorcingulate/ctx-lh-cuneus</th>\n",
       "      <th>fa-ctx-lh-caudalanteriorcingulate/ctx-lh-entorhinal</th>\n",
       "      <th>fa-ctx-lh-caudalanteriorcingulate/ctx-lh-fusiform</th>\n",
       "      <th>fa-ctx-lh-caudalanteriorcingulate/ctx-lh-inferiorparietal</th>\n",
       "      <th>fa-ctx-lh-caudalanteriorcingulate/ctx-lh-inferiortemporal</th>\n",
       "      <th>fa-ctx-lh-caudalanteriorcingulate/ctx-lh-isthmuscingulate</th>\n",
       "      <th>fa-ctx-lh-caudalanteriorcingulate/ctx-lh-lateraloccipital</th>\n",
       "      <th>fa-ctx-lh-caudalanteriorcingulate/ctx-lh-lateralorbitofrontal</th>\n",
       "      <th>fa-ctx-lh-caudalanteriorcingulate/ctx-lh-lingual</th>\n",
       "      <th>...</th>\n",
       "      <th>fa-ctx-rh-superiortemporal/ctx-rh-transversetemporal</th>\n",
       "      <th>fa-ctx-rh-superiortemporal/ctx-rh-insula</th>\n",
       "      <th>fa-ctx-rh-supramarginal/ctx-rh-transversetemporal</th>\n",
       "      <th>fa-ctx-rh-supramarginal/ctx-rh-insula</th>\n",
       "      <th>fa-ctx-rh-transversetemporal/ctx-rh-insula</th>\n",
       "      <th>age</th>\n",
       "      <th>sex</th>\n",
       "      <th>dd</th>\n",
       "      <th>edss</th>\n",
       "      <th>controls_ms</th>\n",
       "    </tr>\n",
       "  </thead>\n",
       "  <tbody>\n",
       "    <tr>\n",
       "      <th>sFIS_04</th>\n",
       "      <td>0.437912</td>\n",
       "      <td>0.000000</td>\n",
       "      <td>0.0</td>\n",
       "      <td>0.0</td>\n",
       "      <td>0.436493</td>\n",
       "      <td>0.0</td>\n",
       "      <td>0.513600</td>\n",
       "      <td>0.0</td>\n",
       "      <td>0.429750</td>\n",
       "      <td>0.0</td>\n",
       "      <td>...</td>\n",
       "      <td>0.338393</td>\n",
       "      <td>0.366659</td>\n",
       "      <td>0.344687</td>\n",
       "      <td>0.393881</td>\n",
       "      <td>0.332806</td>\n",
       "      <td>32.98</td>\n",
       "      <td>1</td>\n",
       "      <td>-1.0</td>\n",
       "      <td>0.0</td>\n",
       "      <td>0</td>\n",
       "    </tr>\n",
       "    <tr>\n",
       "      <th>sFIS_05</th>\n",
       "      <td>0.453001</td>\n",
       "      <td>0.000000</td>\n",
       "      <td>0.0</td>\n",
       "      <td>0.0</td>\n",
       "      <td>0.485008</td>\n",
       "      <td>0.0</td>\n",
       "      <td>0.510843</td>\n",
       "      <td>0.0</td>\n",
       "      <td>0.442475</td>\n",
       "      <td>0.0</td>\n",
       "      <td>...</td>\n",
       "      <td>0.372121</td>\n",
       "      <td>0.403923</td>\n",
       "      <td>0.429492</td>\n",
       "      <td>0.420724</td>\n",
       "      <td>0.392092</td>\n",
       "      <td>23.76</td>\n",
       "      <td>0</td>\n",
       "      <td>-1.0</td>\n",
       "      <td>0.0</td>\n",
       "      <td>0</td>\n",
       "    </tr>\n",
       "    <tr>\n",
       "      <th>sFIS_06</th>\n",
       "      <td>0.444399</td>\n",
       "      <td>0.000000</td>\n",
       "      <td>0.0</td>\n",
       "      <td>0.0</td>\n",
       "      <td>0.000000</td>\n",
       "      <td>0.0</td>\n",
       "      <td>0.538231</td>\n",
       "      <td>0.0</td>\n",
       "      <td>0.475603</td>\n",
       "      <td>0.0</td>\n",
       "      <td>...</td>\n",
       "      <td>0.416458</td>\n",
       "      <td>0.415719</td>\n",
       "      <td>0.447216</td>\n",
       "      <td>0.435247</td>\n",
       "      <td>0.410552</td>\n",
       "      <td>24.11</td>\n",
       "      <td>0</td>\n",
       "      <td>-1.0</td>\n",
       "      <td>0.0</td>\n",
       "      <td>0</td>\n",
       "    </tr>\n",
       "    <tr>\n",
       "      <th>sFIS_07</th>\n",
       "      <td>0.486600</td>\n",
       "      <td>0.513572</td>\n",
       "      <td>0.0</td>\n",
       "      <td>0.0</td>\n",
       "      <td>0.490968</td>\n",
       "      <td>0.0</td>\n",
       "      <td>0.539344</td>\n",
       "      <td>0.0</td>\n",
       "      <td>0.000000</td>\n",
       "      <td>0.0</td>\n",
       "      <td>...</td>\n",
       "      <td>0.390548</td>\n",
       "      <td>0.413046</td>\n",
       "      <td>0.388173</td>\n",
       "      <td>0.413104</td>\n",
       "      <td>0.361699</td>\n",
       "      <td>23.98</td>\n",
       "      <td>0</td>\n",
       "      <td>-1.0</td>\n",
       "      <td>0.0</td>\n",
       "      <td>0</td>\n",
       "    </tr>\n",
       "    <tr>\n",
       "      <th>sFIS_09</th>\n",
       "      <td>0.460415</td>\n",
       "      <td>0.000000</td>\n",
       "      <td>0.0</td>\n",
       "      <td>0.0</td>\n",
       "      <td>0.440825</td>\n",
       "      <td>0.0</td>\n",
       "      <td>0.576394</td>\n",
       "      <td>0.0</td>\n",
       "      <td>0.478940</td>\n",
       "      <td>0.0</td>\n",
       "      <td>...</td>\n",
       "      <td>0.427068</td>\n",
       "      <td>0.446510</td>\n",
       "      <td>0.463700</td>\n",
       "      <td>0.454766</td>\n",
       "      <td>0.422275</td>\n",
       "      <td>23.46</td>\n",
       "      <td>0</td>\n",
       "      <td>-1.0</td>\n",
       "      <td>0.0</td>\n",
       "      <td>0</td>\n",
       "    </tr>\n",
       "  </tbody>\n",
       "</table>\n",
       "<p>5 rows × 2855 columns</p>\n",
       "</div>"
      ],
      "text/plain": [
       "         fa-ctx-lh-caudalanteriorcingulate/ctx-lh-caudalmiddlefrontal  \\\n",
       "sFIS_04                                           0.437912              \n",
       "sFIS_05                                           0.453001              \n",
       "sFIS_06                                           0.444399              \n",
       "sFIS_07                                           0.486600              \n",
       "sFIS_09                                           0.460415              \n",
       "\n",
       "         fa-ctx-lh-caudalanteriorcingulate/ctx-lh-cuneus  \\\n",
       "sFIS_04                                         0.000000   \n",
       "sFIS_05                                         0.000000   \n",
       "sFIS_06                                         0.000000   \n",
       "sFIS_07                                         0.513572   \n",
       "sFIS_09                                         0.000000   \n",
       "\n",
       "         fa-ctx-lh-caudalanteriorcingulate/ctx-lh-entorhinal  \\\n",
       "sFIS_04                                                0.0     \n",
       "sFIS_05                                                0.0     \n",
       "sFIS_06                                                0.0     \n",
       "sFIS_07                                                0.0     \n",
       "sFIS_09                                                0.0     \n",
       "\n",
       "         fa-ctx-lh-caudalanteriorcingulate/ctx-lh-fusiform  \\\n",
       "sFIS_04                                                0.0   \n",
       "sFIS_05                                                0.0   \n",
       "sFIS_06                                                0.0   \n",
       "sFIS_07                                                0.0   \n",
       "sFIS_09                                                0.0   \n",
       "\n",
       "         fa-ctx-lh-caudalanteriorcingulate/ctx-lh-inferiorparietal  \\\n",
       "sFIS_04                                           0.436493           \n",
       "sFIS_05                                           0.485008           \n",
       "sFIS_06                                           0.000000           \n",
       "sFIS_07                                           0.490968           \n",
       "sFIS_09                                           0.440825           \n",
       "\n",
       "         fa-ctx-lh-caudalanteriorcingulate/ctx-lh-inferiortemporal  \\\n",
       "sFIS_04                                                0.0           \n",
       "sFIS_05                                                0.0           \n",
       "sFIS_06                                                0.0           \n",
       "sFIS_07                                                0.0           \n",
       "sFIS_09                                                0.0           \n",
       "\n",
       "         fa-ctx-lh-caudalanteriorcingulate/ctx-lh-isthmuscingulate  \\\n",
       "sFIS_04                                           0.513600           \n",
       "sFIS_05                                           0.510843           \n",
       "sFIS_06                                           0.538231           \n",
       "sFIS_07                                           0.539344           \n",
       "sFIS_09                                           0.576394           \n",
       "\n",
       "         fa-ctx-lh-caudalanteriorcingulate/ctx-lh-lateraloccipital  \\\n",
       "sFIS_04                                                0.0           \n",
       "sFIS_05                                                0.0           \n",
       "sFIS_06                                                0.0           \n",
       "sFIS_07                                                0.0           \n",
       "sFIS_09                                                0.0           \n",
       "\n",
       "         fa-ctx-lh-caudalanteriorcingulate/ctx-lh-lateralorbitofrontal  \\\n",
       "sFIS_04                                           0.429750               \n",
       "sFIS_05                                           0.442475               \n",
       "sFIS_06                                           0.475603               \n",
       "sFIS_07                                           0.000000               \n",
       "sFIS_09                                           0.478940               \n",
       "\n",
       "         fa-ctx-lh-caudalanteriorcingulate/ctx-lh-lingual  ...  \\\n",
       "sFIS_04                                               0.0  ...   \n",
       "sFIS_05                                               0.0  ...   \n",
       "sFIS_06                                               0.0  ...   \n",
       "sFIS_07                                               0.0  ...   \n",
       "sFIS_09                                               0.0  ...   \n",
       "\n",
       "         fa-ctx-rh-superiortemporal/ctx-rh-transversetemporal  \\\n",
       "sFIS_04                                           0.338393      \n",
       "sFIS_05                                           0.372121      \n",
       "sFIS_06                                           0.416458      \n",
       "sFIS_07                                           0.390548      \n",
       "sFIS_09                                           0.427068      \n",
       "\n",
       "         fa-ctx-rh-superiortemporal/ctx-rh-insula  \\\n",
       "sFIS_04                                  0.366659   \n",
       "sFIS_05                                  0.403923   \n",
       "sFIS_06                                  0.415719   \n",
       "sFIS_07                                  0.413046   \n",
       "sFIS_09                                  0.446510   \n",
       "\n",
       "         fa-ctx-rh-supramarginal/ctx-rh-transversetemporal  \\\n",
       "sFIS_04                                           0.344687   \n",
       "sFIS_05                                           0.429492   \n",
       "sFIS_06                                           0.447216   \n",
       "sFIS_07                                           0.388173   \n",
       "sFIS_09                                           0.463700   \n",
       "\n",
       "         fa-ctx-rh-supramarginal/ctx-rh-insula  \\\n",
       "sFIS_04                               0.393881   \n",
       "sFIS_05                               0.420724   \n",
       "sFIS_06                               0.435247   \n",
       "sFIS_07                               0.413104   \n",
       "sFIS_09                               0.454766   \n",
       "\n",
       "         fa-ctx-rh-transversetemporal/ctx-rh-insula    age  sex   dd  edss  \\\n",
       "sFIS_04                                    0.332806  32.98    1 -1.0   0.0   \n",
       "sFIS_05                                    0.392092  23.76    0 -1.0   0.0   \n",
       "sFIS_06                                    0.410552  24.11    0 -1.0   0.0   \n",
       "sFIS_07                                    0.361699  23.98    0 -1.0   0.0   \n",
       "sFIS_09                                    0.422275  23.46    0 -1.0   0.0   \n",
       "\n",
       "         controls_ms  \n",
       "sFIS_04            0  \n",
       "sFIS_05            0  \n",
       "sFIS_06            0  \n",
       "sFIS_07            0  \n",
       "sFIS_09            0  \n",
       "\n",
       "[5 rows x 2855 columns]"
      ]
     },
     "execution_count": 5,
     "metadata": {},
     "output_type": "execute_result"
    }
   ],
   "source": [
    "fa.tail()"
   ]
  },
  {
   "cell_type": "markdown",
   "metadata": {
    "id": "hu5MDGi2Ixc9"
   },
   "source": [
    "#### 2.5.2. Connectivity test (filtering the connections present in less than 60% of the FA-weighted matrices from healthy cohort)"
   ]
  },
  {
   "cell_type": "code",
   "execution_count": 6,
   "metadata": {
    "colab": {
     "base_uri": "https://localhost:8080/",
     "height": 304
    },
    "id": "VJmDMLWCI2s8",
    "outputId": "fe3b1743-46f1-43d6-91bc-20b2a0f59728"
   },
   "outputs": [
    {
     "data": {
      "text/html": [
       "<div>\n",
       "<style scoped>\n",
       "    .dataframe tbody tr th:only-of-type {\n",
       "        vertical-align: middle;\n",
       "    }\n",
       "\n",
       "    .dataframe tbody tr th {\n",
       "        vertical-align: top;\n",
       "    }\n",
       "\n",
       "    .dataframe thead th {\n",
       "        text-align: right;\n",
       "    }\n",
       "</style>\n",
       "<table border=\"1\" class=\"dataframe\">\n",
       "  <thead>\n",
       "    <tr style=\"text-align: right;\">\n",
       "      <th></th>\n",
       "      <th>fa-ctx-lh-caudalanteriorcingulate/ctx-lh-caudalmiddlefrontal</th>\n",
       "      <th>fa-ctx-lh-caudalanteriorcingulate/ctx-lh-inferiorparietal</th>\n",
       "      <th>fa-ctx-lh-caudalanteriorcingulate/ctx-lh-isthmuscingulate</th>\n",
       "      <th>fa-ctx-lh-caudalanteriorcingulate/ctx-lh-lateralorbitofrontal</th>\n",
       "      <th>fa-ctx-lh-caudalanteriorcingulate/ctx-lh-medialorbitofrontal</th>\n",
       "      <th>fa-ctx-lh-caudalanteriorcingulate/ctx-lh-middletemporal</th>\n",
       "      <th>fa-ctx-lh-caudalanteriorcingulate/ctx-lh-paracentral</th>\n",
       "      <th>fa-ctx-lh-caudalanteriorcingulate/ctx-lh-parsopercularis</th>\n",
       "      <th>fa-ctx-lh-caudalanteriorcingulate/ctx-lh-parsorbitalis</th>\n",
       "      <th>fa-ctx-lh-caudalanteriorcingulate/ctx-lh-parstriangularis</th>\n",
       "      <th>...</th>\n",
       "      <th>fa-ctx-rh-superiorparietal/ctx-rh-superiortemporal</th>\n",
       "      <th>fa-ctx-rh-superiorparietal/ctx-rh-supramarginal</th>\n",
       "      <th>fa-ctx-rh-superiorparietal/ctx-rh-transversetemporal</th>\n",
       "      <th>fa-ctx-rh-superiorparietal/ctx-rh-insula</th>\n",
       "      <th>fa-ctx-rh-superiortemporal/ctx-rh-supramarginal</th>\n",
       "      <th>fa-ctx-rh-superiortemporal/ctx-rh-transversetemporal</th>\n",
       "      <th>fa-ctx-rh-superiortemporal/ctx-rh-insula</th>\n",
       "      <th>fa-ctx-rh-supramarginal/ctx-rh-transversetemporal</th>\n",
       "      <th>fa-ctx-rh-supramarginal/ctx-rh-insula</th>\n",
       "      <th>fa-ctx-rh-transversetemporal/ctx-rh-insula</th>\n",
       "    </tr>\n",
       "  </thead>\n",
       "  <tbody>\n",
       "    <tr>\n",
       "      <th>sFIS_04</th>\n",
       "      <td>0.437912</td>\n",
       "      <td>0.436493</td>\n",
       "      <td>0.513600</td>\n",
       "      <td>0.429750</td>\n",
       "      <td>0.432757</td>\n",
       "      <td>0.000000</td>\n",
       "      <td>0.420514</td>\n",
       "      <td>0.410831</td>\n",
       "      <td>0.382987</td>\n",
       "      <td>0.401635</td>\n",
       "      <td>...</td>\n",
       "      <td>0.456611</td>\n",
       "      <td>0.410892</td>\n",
       "      <td>0.437383</td>\n",
       "      <td>0.434414</td>\n",
       "      <td>0.356735</td>\n",
       "      <td>0.338393</td>\n",
       "      <td>0.366659</td>\n",
       "      <td>0.344687</td>\n",
       "      <td>0.393881</td>\n",
       "      <td>0.332806</td>\n",
       "    </tr>\n",
       "    <tr>\n",
       "      <th>sFIS_05</th>\n",
       "      <td>0.453001</td>\n",
       "      <td>0.485008</td>\n",
       "      <td>0.510843</td>\n",
       "      <td>0.442475</td>\n",
       "      <td>0.465207</td>\n",
       "      <td>0.000000</td>\n",
       "      <td>0.415272</td>\n",
       "      <td>0.461950</td>\n",
       "      <td>0.000000</td>\n",
       "      <td>0.435075</td>\n",
       "      <td>...</td>\n",
       "      <td>0.499724</td>\n",
       "      <td>0.439607</td>\n",
       "      <td>0.478599</td>\n",
       "      <td>0.471359</td>\n",
       "      <td>0.412837</td>\n",
       "      <td>0.372121</td>\n",
       "      <td>0.403923</td>\n",
       "      <td>0.429492</td>\n",
       "      <td>0.420724</td>\n",
       "      <td>0.392092</td>\n",
       "    </tr>\n",
       "    <tr>\n",
       "      <th>sFIS_06</th>\n",
       "      <td>0.444399</td>\n",
       "      <td>0.000000</td>\n",
       "      <td>0.538231</td>\n",
       "      <td>0.475603</td>\n",
       "      <td>0.446980</td>\n",
       "      <td>0.000000</td>\n",
       "      <td>0.427906</td>\n",
       "      <td>0.464113</td>\n",
       "      <td>0.431740</td>\n",
       "      <td>0.468737</td>\n",
       "      <td>...</td>\n",
       "      <td>0.523202</td>\n",
       "      <td>0.479137</td>\n",
       "      <td>0.492792</td>\n",
       "      <td>0.499025</td>\n",
       "      <td>0.428173</td>\n",
       "      <td>0.416458</td>\n",
       "      <td>0.415719</td>\n",
       "      <td>0.447216</td>\n",
       "      <td>0.435247</td>\n",
       "      <td>0.410552</td>\n",
       "    </tr>\n",
       "    <tr>\n",
       "      <th>sFIS_07</th>\n",
       "      <td>0.486600</td>\n",
       "      <td>0.490968</td>\n",
       "      <td>0.539344</td>\n",
       "      <td>0.000000</td>\n",
       "      <td>0.416983</td>\n",
       "      <td>0.000000</td>\n",
       "      <td>0.421023</td>\n",
       "      <td>0.458127</td>\n",
       "      <td>0.000000</td>\n",
       "      <td>0.428983</td>\n",
       "      <td>...</td>\n",
       "      <td>0.472483</td>\n",
       "      <td>0.448468</td>\n",
       "      <td>0.456415</td>\n",
       "      <td>0.464796</td>\n",
       "      <td>0.400233</td>\n",
       "      <td>0.390548</td>\n",
       "      <td>0.413046</td>\n",
       "      <td>0.388173</td>\n",
       "      <td>0.413104</td>\n",
       "      <td>0.361699</td>\n",
       "    </tr>\n",
       "    <tr>\n",
       "      <th>sFIS_09</th>\n",
       "      <td>0.460415</td>\n",
       "      <td>0.440825</td>\n",
       "      <td>0.576394</td>\n",
       "      <td>0.478940</td>\n",
       "      <td>0.492266</td>\n",
       "      <td>0.467873</td>\n",
       "      <td>0.445297</td>\n",
       "      <td>0.471779</td>\n",
       "      <td>0.444573</td>\n",
       "      <td>0.458962</td>\n",
       "      <td>...</td>\n",
       "      <td>0.515955</td>\n",
       "      <td>0.475279</td>\n",
       "      <td>0.507160</td>\n",
       "      <td>0.508530</td>\n",
       "      <td>0.460155</td>\n",
       "      <td>0.427068</td>\n",
       "      <td>0.446510</td>\n",
       "      <td>0.463700</td>\n",
       "      <td>0.454766</td>\n",
       "      <td>0.422275</td>\n",
       "    </tr>\n",
       "  </tbody>\n",
       "</table>\n",
       "<p>5 rows × 1798 columns</p>\n",
       "</div>"
      ],
      "text/plain": [
       "         fa-ctx-lh-caudalanteriorcingulate/ctx-lh-caudalmiddlefrontal  \\\n",
       "sFIS_04                                           0.437912              \n",
       "sFIS_05                                           0.453001              \n",
       "sFIS_06                                           0.444399              \n",
       "sFIS_07                                           0.486600              \n",
       "sFIS_09                                           0.460415              \n",
       "\n",
       "         fa-ctx-lh-caudalanteriorcingulate/ctx-lh-inferiorparietal  \\\n",
       "sFIS_04                                           0.436493           \n",
       "sFIS_05                                           0.485008           \n",
       "sFIS_06                                           0.000000           \n",
       "sFIS_07                                           0.490968           \n",
       "sFIS_09                                           0.440825           \n",
       "\n",
       "         fa-ctx-lh-caudalanteriorcingulate/ctx-lh-isthmuscingulate  \\\n",
       "sFIS_04                                           0.513600           \n",
       "sFIS_05                                           0.510843           \n",
       "sFIS_06                                           0.538231           \n",
       "sFIS_07                                           0.539344           \n",
       "sFIS_09                                           0.576394           \n",
       "\n",
       "         fa-ctx-lh-caudalanteriorcingulate/ctx-lh-lateralorbitofrontal  \\\n",
       "sFIS_04                                           0.429750               \n",
       "sFIS_05                                           0.442475               \n",
       "sFIS_06                                           0.475603               \n",
       "sFIS_07                                           0.000000               \n",
       "sFIS_09                                           0.478940               \n",
       "\n",
       "         fa-ctx-lh-caudalanteriorcingulate/ctx-lh-medialorbitofrontal  \\\n",
       "sFIS_04                                           0.432757              \n",
       "sFIS_05                                           0.465207              \n",
       "sFIS_06                                           0.446980              \n",
       "sFIS_07                                           0.416983              \n",
       "sFIS_09                                           0.492266              \n",
       "\n",
       "         fa-ctx-lh-caudalanteriorcingulate/ctx-lh-middletemporal  \\\n",
       "sFIS_04                                           0.000000         \n",
       "sFIS_05                                           0.000000         \n",
       "sFIS_06                                           0.000000         \n",
       "sFIS_07                                           0.000000         \n",
       "sFIS_09                                           0.467873         \n",
       "\n",
       "         fa-ctx-lh-caudalanteriorcingulate/ctx-lh-paracentral  \\\n",
       "sFIS_04                                           0.420514      \n",
       "sFIS_05                                           0.415272      \n",
       "sFIS_06                                           0.427906      \n",
       "sFIS_07                                           0.421023      \n",
       "sFIS_09                                           0.445297      \n",
       "\n",
       "         fa-ctx-lh-caudalanteriorcingulate/ctx-lh-parsopercularis  \\\n",
       "sFIS_04                                           0.410831          \n",
       "sFIS_05                                           0.461950          \n",
       "sFIS_06                                           0.464113          \n",
       "sFIS_07                                           0.458127          \n",
       "sFIS_09                                           0.471779          \n",
       "\n",
       "         fa-ctx-lh-caudalanteriorcingulate/ctx-lh-parsorbitalis  \\\n",
       "sFIS_04                                           0.382987        \n",
       "sFIS_05                                           0.000000        \n",
       "sFIS_06                                           0.431740        \n",
       "sFIS_07                                           0.000000        \n",
       "sFIS_09                                           0.444573        \n",
       "\n",
       "         fa-ctx-lh-caudalanteriorcingulate/ctx-lh-parstriangularis  ...  \\\n",
       "sFIS_04                                           0.401635          ...   \n",
       "sFIS_05                                           0.435075          ...   \n",
       "sFIS_06                                           0.468737          ...   \n",
       "sFIS_07                                           0.428983          ...   \n",
       "sFIS_09                                           0.458962          ...   \n",
       "\n",
       "         fa-ctx-rh-superiorparietal/ctx-rh-superiortemporal  \\\n",
       "sFIS_04                                           0.456611    \n",
       "sFIS_05                                           0.499724    \n",
       "sFIS_06                                           0.523202    \n",
       "sFIS_07                                           0.472483    \n",
       "sFIS_09                                           0.515955    \n",
       "\n",
       "         fa-ctx-rh-superiorparietal/ctx-rh-supramarginal  \\\n",
       "sFIS_04                                         0.410892   \n",
       "sFIS_05                                         0.439607   \n",
       "sFIS_06                                         0.479137   \n",
       "sFIS_07                                         0.448468   \n",
       "sFIS_09                                         0.475279   \n",
       "\n",
       "         fa-ctx-rh-superiorparietal/ctx-rh-transversetemporal  \\\n",
       "sFIS_04                                           0.437383      \n",
       "sFIS_05                                           0.478599      \n",
       "sFIS_06                                           0.492792      \n",
       "sFIS_07                                           0.456415      \n",
       "sFIS_09                                           0.507160      \n",
       "\n",
       "         fa-ctx-rh-superiorparietal/ctx-rh-insula  \\\n",
       "sFIS_04                                  0.434414   \n",
       "sFIS_05                                  0.471359   \n",
       "sFIS_06                                  0.499025   \n",
       "sFIS_07                                  0.464796   \n",
       "sFIS_09                                  0.508530   \n",
       "\n",
       "         fa-ctx-rh-superiortemporal/ctx-rh-supramarginal  \\\n",
       "sFIS_04                                         0.356735   \n",
       "sFIS_05                                         0.412837   \n",
       "sFIS_06                                         0.428173   \n",
       "sFIS_07                                         0.400233   \n",
       "sFIS_09                                         0.460155   \n",
       "\n",
       "         fa-ctx-rh-superiortemporal/ctx-rh-transversetemporal  \\\n",
       "sFIS_04                                           0.338393      \n",
       "sFIS_05                                           0.372121      \n",
       "sFIS_06                                           0.416458      \n",
       "sFIS_07                                           0.390548      \n",
       "sFIS_09                                           0.427068      \n",
       "\n",
       "         fa-ctx-rh-superiortemporal/ctx-rh-insula  \\\n",
       "sFIS_04                                  0.366659   \n",
       "sFIS_05                                  0.403923   \n",
       "sFIS_06                                  0.415719   \n",
       "sFIS_07                                  0.413046   \n",
       "sFIS_09                                  0.446510   \n",
       "\n",
       "         fa-ctx-rh-supramarginal/ctx-rh-transversetemporal  \\\n",
       "sFIS_04                                           0.344687   \n",
       "sFIS_05                                           0.429492   \n",
       "sFIS_06                                           0.447216   \n",
       "sFIS_07                                           0.388173   \n",
       "sFIS_09                                           0.463700   \n",
       "\n",
       "         fa-ctx-rh-supramarginal/ctx-rh-insula  \\\n",
       "sFIS_04                               0.393881   \n",
       "sFIS_05                               0.420724   \n",
       "sFIS_06                               0.435247   \n",
       "sFIS_07                               0.413104   \n",
       "sFIS_09                               0.454766   \n",
       "\n",
       "         fa-ctx-rh-transversetemporal/ctx-rh-insula  \n",
       "sFIS_04                                    0.332806  \n",
       "sFIS_05                                    0.392092  \n",
       "sFIS_06                                    0.410552  \n",
       "sFIS_07                                    0.361699  \n",
       "sFIS_09                                    0.422275  \n",
       "\n",
       "[5 rows x 1798 columns]"
      ]
     },
     "execution_count": 6,
     "metadata": {},
     "output_type": "execute_result"
    }
   ],
   "source": [
    "# Clinical Data\n",
    "\n",
    "clinical_data = fa.iloc[:, -5:]\n",
    "\n",
    "# Connectivity test\n",
    "index = connectivity_test(fa.iloc[:, :-5], clinical_data)\n",
    "\n",
    "fa_conec = fa.iloc[:, index]\n",
    "func_conec = func.iloc[:, index]\n",
    "gm_conec = gm.iloc[:, index]\n",
    "\n",
    "fa_conec.tail()"
   ]
  },
  {
   "cell_type": "markdown",
   "metadata": {
    "id": "vgYyldUFKKyz"
   },
   "source": [
    "#### 2.5.3. Age and gender correction"
   ]
  },
  {
   "cell_type": "code",
   "execution_count": 7,
   "metadata": {
    "colab": {
     "base_uri": "https://localhost:8080/",
     "height": 304
    },
    "id": "rbhlkbflKO0Y",
    "outputId": "fbf02046-a5cc-48fd-b225-8c6ade22aaed"
   },
   "outputs": [
    {
     "data": {
      "text/html": [
       "<div>\n",
       "<style scoped>\n",
       "    .dataframe tbody tr th:only-of-type {\n",
       "        vertical-align: middle;\n",
       "    }\n",
       "\n",
       "    .dataframe tbody tr th {\n",
       "        vertical-align: top;\n",
       "    }\n",
       "\n",
       "    .dataframe thead th {\n",
       "        text-align: right;\n",
       "    }\n",
       "</style>\n",
       "<table border=\"1\" class=\"dataframe\">\n",
       "  <thead>\n",
       "    <tr style=\"text-align: right;\">\n",
       "      <th></th>\n",
       "      <th>fa-ctx-lh-caudalanteriorcingulate/ctx-lh-caudalmiddlefrontal</th>\n",
       "      <th>fa-ctx-lh-caudalanteriorcingulate/ctx-lh-inferiorparietal</th>\n",
       "      <th>fa-ctx-lh-caudalanteriorcingulate/ctx-lh-isthmuscingulate</th>\n",
       "      <th>fa-ctx-lh-caudalanteriorcingulate/ctx-lh-lateralorbitofrontal</th>\n",
       "      <th>fa-ctx-lh-caudalanteriorcingulate/ctx-lh-medialorbitofrontal</th>\n",
       "      <th>fa-ctx-lh-caudalanteriorcingulate/ctx-lh-middletemporal</th>\n",
       "      <th>fa-ctx-lh-caudalanteriorcingulate/ctx-lh-paracentral</th>\n",
       "      <th>fa-ctx-lh-caudalanteriorcingulate/ctx-lh-parsopercularis</th>\n",
       "      <th>fa-ctx-lh-caudalanteriorcingulate/ctx-lh-parsorbitalis</th>\n",
       "      <th>fa-ctx-lh-caudalanteriorcingulate/ctx-lh-parstriangularis</th>\n",
       "      <th>...</th>\n",
       "      <th>fa-ctx-rh-superiortemporal/ctx-rh-transversetemporal</th>\n",
       "      <th>fa-ctx-rh-superiortemporal/ctx-rh-insula</th>\n",
       "      <th>fa-ctx-rh-supramarginal/ctx-rh-transversetemporal</th>\n",
       "      <th>fa-ctx-rh-supramarginal/ctx-rh-insula</th>\n",
       "      <th>fa-ctx-rh-transversetemporal/ctx-rh-insula</th>\n",
       "      <th>age</th>\n",
       "      <th>sex</th>\n",
       "      <th>dd</th>\n",
       "      <th>edss</th>\n",
       "      <th>controls_ms</th>\n",
       "    </tr>\n",
       "  </thead>\n",
       "  <tbody>\n",
       "    <tr>\n",
       "      <th>sFIS_04</th>\n",
       "      <td>0.430788</td>\n",
       "      <td>0.450175</td>\n",
       "      <td>0.515509</td>\n",
       "      <td>0.449645</td>\n",
       "      <td>0.424000</td>\n",
       "      <td>0.0000</td>\n",
       "      <td>0.420407</td>\n",
       "      <td>0.406309</td>\n",
       "      <td>0.384843</td>\n",
       "      <td>0.394141</td>\n",
       "      <td>...</td>\n",
       "      <td>0.332517</td>\n",
       "      <td>0.369312</td>\n",
       "      <td>0.335621</td>\n",
       "      <td>0.394486</td>\n",
       "      <td>0.331953</td>\n",
       "      <td>32.98</td>\n",
       "      <td>1</td>\n",
       "      <td>-1.0</td>\n",
       "      <td>0.0</td>\n",
       "      <td>0</td>\n",
       "    </tr>\n",
       "    <tr>\n",
       "      <th>sFIS_05</th>\n",
       "      <td>0.436726</td>\n",
       "      <td>0.509721</td>\n",
       "      <td>0.509667</td>\n",
       "      <td>0.457909</td>\n",
       "      <td>0.442735</td>\n",
       "      <td>0.0000</td>\n",
       "      <td>0.409901</td>\n",
       "      <td>0.440541</td>\n",
       "      <td>0.000000</td>\n",
       "      <td>0.411800</td>\n",
       "      <td>...</td>\n",
       "      <td>0.363557</td>\n",
       "      <td>0.397600</td>\n",
       "      <td>0.415235</td>\n",
       "      <td>0.405084</td>\n",
       "      <td>0.384904</td>\n",
       "      <td>23.76</td>\n",
       "      <td>0</td>\n",
       "      <td>-1.0</td>\n",
       "      <td>0.0</td>\n",
       "      <td>0</td>\n",
       "    </tr>\n",
       "    <tr>\n",
       "      <th>sFIS_06</th>\n",
       "      <td>0.428366</td>\n",
       "      <td>0.000000</td>\n",
       "      <td>0.537060</td>\n",
       "      <td>0.490742</td>\n",
       "      <td>0.424838</td>\n",
       "      <td>0.0000</td>\n",
       "      <td>0.422603</td>\n",
       "      <td>0.442999</td>\n",
       "      <td>0.468241</td>\n",
       "      <td>0.445795</td>\n",
       "      <td>...</td>\n",
       "      <td>0.408032</td>\n",
       "      <td>0.409463</td>\n",
       "      <td>0.433186</td>\n",
       "      <td>0.419804</td>\n",
       "      <td>0.403460</td>\n",
       "      <td>24.11</td>\n",
       "      <td>0</td>\n",
       "      <td>-1.0</td>\n",
       "      <td>0.0</td>\n",
       "      <td>0</td>\n",
       "    </tr>\n",
       "    <tr>\n",
       "      <th>sFIS_07</th>\n",
       "      <td>0.470477</td>\n",
       "      <td>0.515442</td>\n",
       "      <td>0.538171</td>\n",
       "      <td>0.000000</td>\n",
       "      <td>0.394718</td>\n",
       "      <td>0.0000</td>\n",
       "      <td>0.415694</td>\n",
       "      <td>0.436903</td>\n",
       "      <td>0.000000</td>\n",
       "      <td>0.405918</td>\n",
       "      <td>...</td>\n",
       "      <td>0.382070</td>\n",
       "      <td>0.406766</td>\n",
       "      <td>0.374059</td>\n",
       "      <td>0.397587</td>\n",
       "      <td>0.354572</td>\n",
       "      <td>23.98</td>\n",
       "      <td>0</td>\n",
       "      <td>-1.0</td>\n",
       "      <td>0.0</td>\n",
       "      <td>0</td>\n",
       "    </tr>\n",
       "    <tr>\n",
       "      <th>sFIS_09</th>\n",
       "      <td>0.443932</td>\n",
       "      <td>0.465865</td>\n",
       "      <td>0.575213</td>\n",
       "      <td>0.494627</td>\n",
       "      <td>0.469513</td>\n",
       "      <td>0.5199</td>\n",
       "      <td>0.439866</td>\n",
       "      <td>0.450117</td>\n",
       "      <td>0.481965</td>\n",
       "      <td>0.435401</td>\n",
       "      <td>...</td>\n",
       "      <td>0.418385</td>\n",
       "      <td>0.440130</td>\n",
       "      <td>0.449250</td>\n",
       "      <td>0.438958</td>\n",
       "      <td>0.415005</td>\n",
       "      <td>23.46</td>\n",
       "      <td>0</td>\n",
       "      <td>-1.0</td>\n",
       "      <td>0.0</td>\n",
       "      <td>0</td>\n",
       "    </tr>\n",
       "  </tbody>\n",
       "</table>\n",
       "<p>5 rows × 1803 columns</p>\n",
       "</div>"
      ],
      "text/plain": [
       "         fa-ctx-lh-caudalanteriorcingulate/ctx-lh-caudalmiddlefrontal  \\\n",
       "sFIS_04                                           0.430788              \n",
       "sFIS_05                                           0.436726              \n",
       "sFIS_06                                           0.428366              \n",
       "sFIS_07                                           0.470477              \n",
       "sFIS_09                                           0.443932              \n",
       "\n",
       "         fa-ctx-lh-caudalanteriorcingulate/ctx-lh-inferiorparietal  \\\n",
       "sFIS_04                                           0.450175           \n",
       "sFIS_05                                           0.509721           \n",
       "sFIS_06                                           0.000000           \n",
       "sFIS_07                                           0.515442           \n",
       "sFIS_09                                           0.465865           \n",
       "\n",
       "         fa-ctx-lh-caudalanteriorcingulate/ctx-lh-isthmuscingulate  \\\n",
       "sFIS_04                                           0.515509           \n",
       "sFIS_05                                           0.509667           \n",
       "sFIS_06                                           0.537060           \n",
       "sFIS_07                                           0.538171           \n",
       "sFIS_09                                           0.575213           \n",
       "\n",
       "         fa-ctx-lh-caudalanteriorcingulate/ctx-lh-lateralorbitofrontal  \\\n",
       "sFIS_04                                           0.449645               \n",
       "sFIS_05                                           0.457909               \n",
       "sFIS_06                                           0.490742               \n",
       "sFIS_07                                           0.000000               \n",
       "sFIS_09                                           0.494627               \n",
       "\n",
       "         fa-ctx-lh-caudalanteriorcingulate/ctx-lh-medialorbitofrontal  \\\n",
       "sFIS_04                                           0.424000              \n",
       "sFIS_05                                           0.442735              \n",
       "sFIS_06                                           0.424838              \n",
       "sFIS_07                                           0.394718              \n",
       "sFIS_09                                           0.469513              \n",
       "\n",
       "         fa-ctx-lh-caudalanteriorcingulate/ctx-lh-middletemporal  \\\n",
       "sFIS_04                                             0.0000         \n",
       "sFIS_05                                             0.0000         \n",
       "sFIS_06                                             0.0000         \n",
       "sFIS_07                                             0.0000         \n",
       "sFIS_09                                             0.5199         \n",
       "\n",
       "         fa-ctx-lh-caudalanteriorcingulate/ctx-lh-paracentral  \\\n",
       "sFIS_04                                           0.420407      \n",
       "sFIS_05                                           0.409901      \n",
       "sFIS_06                                           0.422603      \n",
       "sFIS_07                                           0.415694      \n",
       "sFIS_09                                           0.439866      \n",
       "\n",
       "         fa-ctx-lh-caudalanteriorcingulate/ctx-lh-parsopercularis  \\\n",
       "sFIS_04                                           0.406309          \n",
       "sFIS_05                                           0.440541          \n",
       "sFIS_06                                           0.442999          \n",
       "sFIS_07                                           0.436903          \n",
       "sFIS_09                                           0.450117          \n",
       "\n",
       "         fa-ctx-lh-caudalanteriorcingulate/ctx-lh-parsorbitalis  \\\n",
       "sFIS_04                                           0.384843        \n",
       "sFIS_05                                           0.000000        \n",
       "sFIS_06                                           0.468241        \n",
       "sFIS_07                                           0.000000        \n",
       "sFIS_09                                           0.481965        \n",
       "\n",
       "         fa-ctx-lh-caudalanteriorcingulate/ctx-lh-parstriangularis  ...  \\\n",
       "sFIS_04                                           0.394141          ...   \n",
       "sFIS_05                                           0.411800          ...   \n",
       "sFIS_06                                           0.445795          ...   \n",
       "sFIS_07                                           0.405918          ...   \n",
       "sFIS_09                                           0.435401          ...   \n",
       "\n",
       "         fa-ctx-rh-superiortemporal/ctx-rh-transversetemporal  \\\n",
       "sFIS_04                                           0.332517      \n",
       "sFIS_05                                           0.363557      \n",
       "sFIS_06                                           0.408032      \n",
       "sFIS_07                                           0.382070      \n",
       "sFIS_09                                           0.418385      \n",
       "\n",
       "         fa-ctx-rh-superiortemporal/ctx-rh-insula  \\\n",
       "sFIS_04                                  0.369312   \n",
       "sFIS_05                                  0.397600   \n",
       "sFIS_06                                  0.409463   \n",
       "sFIS_07                                  0.406766   \n",
       "sFIS_09                                  0.440130   \n",
       "\n",
       "         fa-ctx-rh-supramarginal/ctx-rh-transversetemporal  \\\n",
       "sFIS_04                                           0.335621   \n",
       "sFIS_05                                           0.415235   \n",
       "sFIS_06                                           0.433186   \n",
       "sFIS_07                                           0.374059   \n",
       "sFIS_09                                           0.449250   \n",
       "\n",
       "         fa-ctx-rh-supramarginal/ctx-rh-insula  \\\n",
       "sFIS_04                               0.394486   \n",
       "sFIS_05                               0.405084   \n",
       "sFIS_06                               0.419804   \n",
       "sFIS_07                               0.397587   \n",
       "sFIS_09                               0.438958   \n",
       "\n",
       "         fa-ctx-rh-transversetemporal/ctx-rh-insula    age  sex   dd  edss  \\\n",
       "sFIS_04                                    0.331953  32.98    1 -1.0   0.0   \n",
       "sFIS_05                                    0.384904  23.76    0 -1.0   0.0   \n",
       "sFIS_06                                    0.403460  24.11    0 -1.0   0.0   \n",
       "sFIS_07                                    0.354572  23.98    0 -1.0   0.0   \n",
       "sFIS_09                                    0.415005  23.46    0 -1.0   0.0   \n",
       "\n",
       "         controls_ms  \n",
       "sFIS_04            0  \n",
       "sFIS_05            0  \n",
       "sFIS_06            0  \n",
       "sFIS_07            0  \n",
       "sFIS_09            0  \n",
       "\n",
       "[5 rows x 1803 columns]"
      ]
     },
     "execution_count": 7,
     "metadata": {},
     "output_type": "execute_result"
    }
   ],
   "source": [
    "fa_correct = linear_correction(clinical_data, fa_conec)\n",
    "func_correct = linear_correction(clinical_data, func_conec)\n",
    "gm_correct = linear_correction(clinical_data, gm_conec)\n",
    "\n",
    "fa_correct.tail()"
   ]
  },
  {
   "cell_type": "markdown",
   "metadata": {
    "id": "yXVFCZOfK3XX"
   },
   "source": [
    "#### 2.5.4. Data harmonization (ComBat)"
   ]
  },
  {
   "cell_type": "code",
   "execution_count": 8,
   "metadata": {
    "colab": {
     "base_uri": "https://localhost:8080/",
     "height": 487
    },
    "id": "vcUJIA6-KaGQ",
    "outputId": "6b41cfe2-b62e-4859-bff5-b1dee2ff5415"
   },
   "outputs": [
    {
     "data": {
      "image/png": "[encoded data removed]",
      "text/plain": [
       "<Figure size 1152x864 with 4 Axes>"
      ]
     },
     "metadata": {
      "needs_background": "light"
     },
     "output_type": "display_data"
    }
   ],
   "source": [
    "import numpy as np\n",
    "import matplotlib.pyplot as plt\n",
    "from sklearn.decomposition import PCA\n",
    "import pandas as pd\n",
    "import seaborn as sns\n",
    "\n",
    "data = [fa_correct.iloc[:, :-5], func_correct.iloc[:, :-5], gm_correct.iloc[:, :-5], full_dataset.iloc[:, :-5]]\n",
    "names = [\"FA Data\", \"Functional Data\", \"Grey Matter Data\", \"Full Dataset\"]\n",
    "\n",
    "fig, axs = plt.subplots(2, 2, figsize=(16, 12))\n",
    "scanner = [0 if \"MSVIS\" in name else 1 for name in fa.index]\n",
    "\n",
    "for i in range(2):\n",
    "    for j in range(2):\n",
    "        pca_variables = data[i+j]\n",
    "        pca = PCA(n_components=2)\n",
    "        pca_fa = pd.concat([pd.DataFrame(pca.fit_transform(pca_variables)), pd.DataFrame(scanner, columns=[\"scanner\"])], join=\"inner\", axis=1)\n",
    "        axs[i, j].scatter(x=pca_fa[0], y=pca_fa[1], c=pca_fa[\"scanner\"])\n",
    "\n",
    "for i,ax in enumerate(axs.flat):\n",
    "    ax.set(xlabel='Number of Components', ylabel='Cumulative Explained Variance', title=names[i])\n",
    "    \n",
    "fig.tight_layout()"
   ]
  },
  {
   "cell_type": "code",
   "execution_count": 9,
   "metadata": {},
   "outputs": [],
   "source": [
    "#! git clone https://github.com/Jfortin1/neuroCombat.git"
   ]
  },
  {
   "cell_type": "code",
   "execution_count": 30,
   "metadata": {},
   "outputs": [
    {
     "name": "stdout",
     "output_type": "stream",
     "text": [
      "[neuroCombat] Creating design matrix\n",
      "[neuroCombat] Standardizing data across features\n",
      "[neuroCombat] Fitting L/S model and finding priors\n",
      "[neuroCombat] Finding parametric adjustments\n",
      "[neuroCombat] Final adjustment of data\n"
     ]
    }
   ],
   "source": [
    "from neuroCombat import neuroCombat\n",
    "\n",
    "dat = fa_correct.iloc[:, :-5].transpose()\n",
    "\n",
    "index = [name for name in fa_correct.index]\n",
    "scanner = [0 if \"MSVIS\" in name else 1 for name in index]\n",
    "clinical_data[\"scanner\"] = scanner\n",
    "\n",
    "har_data = neuroCombat(dat = dat,\n",
    "                       covars = clinical_data,\n",
    "                       batch_col = \"scanner\")\n",
    "#har_data = harmonization(dat,clinical_data)"
   ]
  },
  {
   "cell_type": "code",
   "execution_count": 31,
   "metadata": {},
   "outputs": [
    {
     "data": {
      "text/plain": [
       "<matplotlib.collections.PathCollection at 0x7f216c340130>"
      ]
     },
     "execution_count": 31,
     "metadata": {},
     "output_type": "execute_result"
    },
    {
     "data": {
      "image/png": "[encoded data removed]",
      "text/plain": [
       "<Figure size 936x576 with 1 Axes>"
      ]
     },
     "metadata": {
      "needs_background": "light"
     },
     "output_type": "display_data"
    }
   ],
   "source": [
    "clinical_data.drop([\"scanner\"], axis=1, inplace=True)\n",
    "fa_har = pd.concat([pd.DataFrame(har_data[\"data\"].transpose(), index = fa_correct.iloc[:, :-5].index, columns = fa_correct.iloc[:, :-5].columns), clinical_data], \n",
    "                     join = \"inner\", \n",
    "                     axis=1)\n",
    "\n",
    "pca_variables = fa_har\n",
    "pca_fa = PCA(n_components=2)\n",
    "pca_fa = pd.concat([pd.DataFrame(pca.fit_transform(pca_variables)), pd.DataFrame(scanner, columns=[\"scanner\"])], join=\"inner\", axis=1)\n",
    "plt.figure(figsize=(13, 8))\n",
    "plt.xlabel(\"PCA 0\")\n",
    "plt.ylabel(\"PCA 1\")\n",
    "plt.title(\"Harmonized FA\")\n",
    "plt.scatter(x=pca_fa[0], y=pca_fa[1], c=pca_fa[\"scanner\"])"
   ]
  },
  {
   "cell_type": "markdown",
   "metadata": {
    "id": "sz-CqFdlN6Cz"
   },
   "source": [
    "#### 2.5.5. Imputation by the higher prevalence of zero values"
   ]
  },
  {
   "cell_type": "code",
   "execution_count": 32,
   "metadata": {
    "colab": {
     "base_uri": "https://localhost:8080/",
     "height": 368
    },
    "id": "Ch_AiOmROebt",
    "outputId": "622fca12-d334-4728-9bd3-fc5e68e8a13a"
   },
   "outputs": [
    {
     "data": {
      "image/png": "[encoded data removed]",
      "text/plain": [
       "<Figure size 1296x720 with 3 Axes>"
      ]
     },
     "metadata": {
      "needs_background": "light"
     },
     "output_type": "display_data"
    }
   ],
   "source": [
    "data = [pd.concat([fa_conec, clinical_data], join=\"inner\", axis=1), fa_correct, fa_har]\n",
    "\n",
    "fig, axes = plt.subplots(1, 3, figsize=(18, 10))\n",
    "\n",
    "for i in range(3):\n",
    "    sns.boxplot(ax=axes[i],\n",
    "                y=fa_conec.columns[1], \n",
    "                x='controls_ms', \n",
    "                data=data[i])\n",
    "\n",
    "    sns.swarmplot(ax = axes[i],\n",
    "                  y=fa_conec.columns[1], \n",
    "                  x='controls_ms', \n",
    "                  data=data[i], \n",
    "                  color=\".25\")"
   ]
  },
  {
   "cell_type": "code",
   "execution_count": 33,
   "metadata": {
    "id": "_Iwu8sIaOjMP"
   },
   "outputs": [],
   "source": [
    "def outlier_imputation(neuro_data):\n",
    "    \"\"\"\n",
    "    Deals with the problem of zero-values in data by using linear regression models for imputation.\n",
    "\n",
    "    Arguments:\n",
    "    ----------\n",
    "\n",
    "    neuro_data: data that have to be corrected. Important, do not include Clinical Data.\n",
    "\n",
    "    Returns:\n",
    "    --------\n",
    "\n",
    "    pandas dataframe with the corrected data.\n",
    "    \"\"\"\n",
    "    columns = [col for col in neuro_data.columns]\n",
    "    df = neuro_data.copy()\n",
    "    \n",
    "    model = LinearRegression()\n",
    "\n",
    "    for col in columns:\n",
    "        if df[df[col] == 0].shape[0] != 0:\n",
    "            X_train, y_train = df[df[col] != 0].drop([col], axis = 1), df[df[col] != 0][col]\n",
    "            X_test = df[df[col] == 0].drop([col], axis = 1)\n",
    "\n",
    "            model = LinearRegression()\n",
    "            model.fit(X_train, y_train)\n",
    "            pred = model.predict(X_test)\n",
    "\n",
    "            df.loc[X_test.index, col] = pred\n",
    "    return df"
   ]
  },
  {
   "cell_type": "code",
   "execution_count": 34,
   "metadata": {
    "colab": {
     "base_uri": "https://localhost:8080/"
    },
    "id": "FVTIoTNfOnqk",
    "outputId": "fc6e43b3-41c5-4c94-ebc7-e90ee2eb32eb"
   },
   "outputs": [
    {
     "name": "stdout",
     "output_type": "stream",
     "text": [
      "[neuroCombat] Creating design matrix\n",
      "[neuroCombat] Standardizing data across features\n",
      "[neuroCombat] Fitting L/S model and finding priors\n",
      "[neuroCombat] Finding parametric adjustments\n",
      "[neuroCombat] Final adjustment of data\n"
     ]
    }
   ],
   "source": [
    "from sklearn.linear_model import LinearRegression\n",
    "\n",
    "fa_imputed = outlier_imputation(fa_correct.iloc[:, :-5])\n",
    "func_imputed = outlier_imputation(func_correct.iloc[:, :-5])\n",
    "func_imputed = pd.concat([func_imputed, func.iloc[:, -5:]], axis=1, join=\"inner\")\n",
    "gm_imputed = outlier_imputation(gm_correct.iloc[:, :-5])\n",
    "gm_imputed = pd.concat([gm_imputed, gm.iloc[:, -5:]], axis=1, join=\"inner\")\n",
    "\n",
    "#harmonization\n",
    "dat = fa_imputed.iloc[:, :-5].transpose()\n",
    "\n",
    "index = [name for name in fa_imputed.index]\n",
    "scanner = [0 if \"MSVIS\" in name else 1 for name in index]\n",
    "clinical_data[\"scanner\"] = scanner\n",
    "\n",
    "har_data = neuroCombat(dat = dat,\n",
    "                       covars = clinical_data,\n",
    "                       batch_col = \"scanner\")\n",
    "\n",
    "#clinical_data.drop([\"scanner\"], axis=1, inplace=True)\n",
    "fa_har = pd.concat([pd.DataFrame(har_data[\"data\"].transpose(), index = fa_imputed.iloc[:, :-5].index, columns = fa_imputed.iloc[:, :-5].columns), clinical_data], \n",
    "                     join = \"inner\", \n",
    "                     axis=1)"
   ]
  },
  {
   "cell_type": "code",
   "execution_count": null,
   "metadata": {
    "colab": {
     "background_save": true
    },
    "id": "GGg7x6EJO_Ka",
    "outputId": "65b014e1-65cf-48e4-e0ee-b5d78aecfed3"
   },
   "outputs": [],
   "source": [
    "data = [pd.concat([fa_conec, clinical_data], join=\"inner\", axis=1), fa_correct, fa_har]\n",
    "\n",
    "fig, axes = plt.subplots(1, 3, figsize=(18, 10))\n",
    "\n",
    "for i in range(3):\n",
    "    sns.boxplot(ax=axes[i],\n",
    "                y=fa_conec.columns[1], \n",
    "                x='controls_ms', \n",
    "                data=data[i])\n",
    "\n",
    "    sns.swarmplot(ax = axes[i],\n",
    "                  y=fa_conec.columns[1], \n",
    "                  x='controls_ms', \n",
    "                  data=data[i], \n",
    "                  color=\".25\")"
   ]
  },
  {
   "cell_type": "markdown",
   "metadata": {
    "id": "iCNyrqDpQX-i"
   },
   "source": [
    "#### 2.5.6. Statistically significant connections with Bonferroni"
   ]
  },
  {
   "cell_type": "code",
   "execution_count": null,
   "metadata": {
    "colab": {
     "background_save": true
    },
    "id": "HA35LUh_Qcj1"
   },
   "outputs": [],
   "source": [
    "def types_diff(data):\n",
    "    conn_stat = pd.DataFrame(columns=['ROI','pvalue'])\n",
    "    feats = data.iloc[:, :-6].columns.to_list()\n",
    "    for connections in feats:\n",
    "        stat,p = shapiro(data[connections])\n",
    "        alpha=0.05\n",
    "        sample1 = data.loc[data[\"controls_ms\"]==0,connections]\n",
    "        sample2 = data.loc[data[\"controls_ms\"]==1,connections]\n",
    "        if p > alpha:\n",
    "            stat, p = bartlett(sample1,sample2)\n",
    "            homovar = True\n",
    "            if (p<=0.05):\n",
    "                homovar = False\n",
    "            stat,p = ttest_ind(sample1,sample2,equal_var=homovar)\n",
    "        else:\n",
    "            stat,p = mannwhitneyu(data.loc[data[\"controls_ms\"]==0,connections],data.loc[data[\"controls_ms\"]==1,connections],alternative='two-sided')\n",
    "    \n",
    "        if (p<=0.05):\n",
    "            conn_stat = conn_stat.append({'ROI': connections,'pvalue': p}, ignore_index=True)\n",
    "        \n",
    "    print('Statistically diferences in %d of connections' % len(conn_stat))\n",
    "\n",
    "    diff = conn_stat.copy()\n",
    "\n",
    "    p_corr = multipletests(diff[\"pvalue\"], alpha = 0.05, method = \"bonferroni\", is_sorted = False)\n",
    "    diff[\"p_corr\"] = p_corr[1] #Added the bonferroni correction\n",
    "    diff_fdr = diff[diff[\"p_corr\"] < 0.05] \n",
    "    print('Statistically diferences in %d of connections with Bonferroni correction (p-value multiplied by number of correlations) ' % len(diff_fdr))\n",
    "    diff_fa = diff_fdr[\"ROI\"].tolist()\n",
    "    fa_clinic = data.loc[:,[\"age\", \"sex\", \"dd\", \"edss\", \"controls_ms\"]]\n",
    "    fa_har_bonferroni = data[diff_fa]\n",
    "    fa_har_corr = pd.merge(fa_har_bonferroni, fa_clinic, left_index=True, right_index=True)\n",
    "    \n",
    "    return fa_har_corr"
   ]
  },
  {
   "cell_type": "code",
   "execution_count": null,
   "metadata": {
    "colab": {
     "background_save": true
    },
    "id": "CO1ASYqFQ1Sc",
    "outputId": "987062af-2a51-4998-a42a-53f9726e8543"
   },
   "outputs": [],
   "source": [
    "# Statistics\n",
    "from scipy.stats import mannwhitneyu, ttest_ind, bartlett, shapiro\n",
    "from statsmodels.stats.multitest import fdrcorrection, multipletests\n",
    "from statsmodels.stats.outliers_influence import variance_inflation_factor\n",
    "from statsmodels.tools.tools import add_constant\n",
    "from statsmodels.regression.linear_model import OLS\n",
    "#FA-weighted connections statistically significant \n",
    "fa_final = types_diff(fa_har)"
   ]
  },
  {
   "cell_type": "code",
   "execution_count": null,
   "metadata": {
    "colab": {
     "background_save": true
    },
    "id": "9I_sKKuPVquZ",
    "outputId": "04e4d2cb-165d-47cd-d710-4f61cb07b42a"
   },
   "outputs": [],
   "source": [
    "#Structural gray matter brain network \n",
    "gm_final = types_diff(gm_imputed)"
   ]
  },
  {
   "cell_type": "code",
   "execution_count": null,
   "metadata": {
    "colab": {
     "background_save": true
    },
    "id": "zQtMCZGJWeWu",
    "outputId": "f297e16b-c80c-4569-d197-8479ffb7f7d0"
   },
   "outputs": [],
   "source": [
    "#Resting-state functional brain network\n",
    "func_final = types_diff(func_imputed)"
   ]
  },
  {
   "cell_type": "code",
   "execution_count": null,
   "metadata": {},
   "outputs": [],
   "source": [
    "data_final = pd.concat([fa_final.iloc[:, :-5], gm_final.iloc[:, :-5], func_final.iloc[:, :-5]], join=\"inner\", axis=1)"
   ]
  },
  {
   "cell_type": "markdown",
   "metadata": {
    "id": "I-19gYPPmOIV"
   },
   "source": [
    "## 3. Results"
   ]
  },
  {
   "cell_type": "markdown",
   "metadata": {
    "id": "ealcLpH-0S0Z"
   },
   "source": [
    "### 3.1: Connectogram \n",
    "\n",
    "Visualization of statistically significant connections of brain networks (FA, GM and rsfmri). "
   ]
  },
  {
   "cell_type": "code",
   "execution_count": null,
   "metadata": {},
   "outputs": [],
   "source": [
    "from math import pi, cos, sin\n",
    "\n",
    "def draw_circle_points(points, radius=1, centerX=0, centerY=0):\n",
    "    part = 2 * pi / points\n",
    "    final_points = []\n",
    "\n",
    "    for point in range(points):\n",
    "        angle = part * point;\n",
    "        newX = centerX + radius * cos(angle)\n",
    "        newY = centerY + radius * sin(angle)\n",
    "        final_points.append((newX, newY))\n",
    "\n",
    "    return final_points\n",
    "\n",
    "def text_angles(points, radius=1, centerX=0, centerY=0):\n",
    "    part = 2 * pi / points\n",
    "    final_angles = []\n",
    "\n",
    "    for point in range(points):\n",
    "        angle = part * point\n",
    "        final_angles.append(angle)\n",
    "\n",
    "    return final_angles\n",
    "\n",
    "def modify_names(roi_name):\n",
    "    roi_name = roi_name.replace(\"Left\", \"lh\")\n",
    "    roi_name = roi_name.replace(\"Right\", \"rh\")\n",
    "    return roi_name.lower()"
   ]
  },
  {
   "cell_type": "code",
   "execution_count": null,
   "metadata": {},
   "outputs": [],
   "source": [
    "total_roi=76 #Mindboggle\n",
    "angles = np.array(text_angles(total_roi, radius=1.1))[::-1]\n",
    "text_position = pd.DataFrame(np.fliplr(np.array(draw_circle_points(total_roi, radius=1.1)).T))\n",
    "roi_positions = np.fliplr(np.array(draw_circle_points(total_roi)).T)"
   ]
  },
  {
   "cell_type": "code",
   "execution_count": null,
   "metadata": {},
   "outputs": [],
   "source": [
    "rois_list=np.arange(76) + 1\n",
    "positions_df = pd.DataFrame({\"ROI1\":rois_list, \"x\":roi_positions[0], \"y\":roi_positions[1]})\n",
    "positions_df.head()"
   ]
  },
  {
   "cell_type": "code",
   "execution_count": null,
   "metadata": {},
   "outputs": [],
   "source": [
    "positions_df2 = positions_df.copy()\n",
    "positions_df2.columns = [\"ROI2\", \"x2\", \"y2\"]\n",
    "positions_df2.head()"
   ]
  },
  {
   "cell_type": "code",
   "execution_count": null,
   "metadata": {},
   "outputs": [],
   "source": [
    "text_position = text_position.T\n",
    "text_position.columns = [\"x\", \"y\"]"
   ]
  },
  {
   "cell_type": "code",
   "execution_count": null,
   "metadata": {},
   "outputs": [],
   "source": [
    "names = pd.read_csv(\"fs_default.txt\", sep=\",\", header=None)\n",
    "names[1] = names[1].apply(str.strip).apply(modify_names)\n",
    "positions_text = pd.concat([text_position, names], axis=1)\n",
    "positions_text.columns = [\"x\", \"y\", \"ROI\", \"name\"]\n",
    "positions_text[\"angle\"] = angles"
   ]
  },
  {
   "cell_type": "code",
   "execution_count": null,
   "metadata": {},
   "outputs": [],
   "source": [
    "positions_text = positions_text.assign(angles=angles)\n",
    "positions_text.tail()"
   ]
  },
  {
   "cell_type": "code",
   "execution_count": null,
   "metadata": {},
   "outputs": [],
   "source": [
    "connectogram_stat = pd.DataFrame(columns=['ROI1_name','ROI2_name'])\n",
    "\n",
    "col = data_final.iloc[:, :].columns.to_list()\n",
    "for nodes in col:\n",
    "    rois= nodes.split('/')\n",
    "    line = rois[0][3:] #Remove the 4 characters\n",
    "    connectogram_stat = connectogram_stat.append({'ROI1_name': line,'ROI2_name': rois[1]}, ignore_index=True) "
   ]
  },
  {
   "cell_type": "code",
   "execution_count": null,
   "metadata": {},
   "outputs": [],
   "source": [
    "connectogram_stat.head()"
   ]
  },
  {
   "cell_type": "markdown",
   "metadata": {
    "id": "ATzi5ZBOZC8a"
   },
   "source": [
    "### 3.2: Machine learning algorithms to classify between healthy controls and MS patients "
   ]
  },
  {
   "cell_type": "code",
   "execution_count": null,
   "metadata": {
    "id": "0-SdyGhnZLE5"
   },
   "outputs": [],
   "source": [
    "# Preprocessing functions\n",
    "from sklearn.model_selection import train_test_split\n",
    "from sklearn.preprocessing import StandardScaler\n",
    "\n",
    "# Modeling\n",
    "from sklearn.ensemble import RandomForestClassifier\n",
    "from sklearn.linear_model import LogisticRegression\n",
    "from sklearn.model_selection import cross_val_score\n",
    "# Metrics\n",
    "from sklearn.metrics import f1_score, recall_score, precision_score\n",
    "\n",
    "from sklearn.cluster import KMeans\n",
    "from sklearn.pipeline import Pipeline"
   ]
  },
  {
   "cell_type": "code",
   "execution_count": null,
   "metadata": {
    "id": "PuyIacyOdNQC"
   },
   "outputs": [],
   "source": [
    "#! pip install imblearn #imbalanced-learn documentation\n",
    "#! pip install xgboost"
   ]
  },
  {
   "cell_type": "code",
   "execution_count": null,
   "metadata": {},
   "outputs": [],
   "source": [
    "def data_augmentation(X, y):\n",
    "    \"\"\"\n",
    "    performing data augmentation by using the SMOTE library, which created new instances by using KNN algorithm.\n",
    "    Arguments:\n",
    "    ---------\n",
    "    X: Independent variables\n",
    "    y: Target\n",
    "    Returns:\n",
    "    -------\n",
    "    X: data-augmented independent variables\n",
    "    y: data-augmented target\n",
    "    \"\"\"\n",
    "\n",
    "    sm = SMOTE(random_state=42)\n",
    "    X_res, Y_res = sm.fit_resample(X, y)\n",
    "\n",
    "    df_smote_over = pd.concat([pd.DataFrame(X_res), pd.DataFrame(Y_res)], axis=1, join=\"inner\")\n",
    "\n",
    "    return df_smote_over"
   ]
  },
  {
   "cell_type": "code",
   "execution_count": null,
   "metadata": {},
   "outputs": [],
   "source": [
    "from imblearn.over_sampling import SMOTE\n",
    "\n",
    "df_final = data_augmentation(data_final, fa_final.iloc[:, -1])#Control vs MS\n",
    "X = df_final.iloc[:, :-1]\n",
    "y = df_final.iloc[:, -1]"
   ]
  },
  {
   "cell_type": "code",
   "execution_count": null,
   "metadata": {},
   "outputs": [],
   "source": [
    "from sklearn.linear_model import LogisticRegression\n",
    "\n",
    "def evaluation(X, y, model):\n",
    "    mean_score = 0\n",
    "    logistic_model = model\n",
    "    kf = StratifiedKFold(n_splits=5)\n",
    "    sc = StandardScaler()\n",
    "    for train_index, test_index in kf.split(X, y):\n",
    "        X_train, y_train = sc.fit_transform(X.iloc[train_index, :]), y.iloc[train_index]\n",
    "        X_test, y_test = sc.transform(X.iloc[test_index, :]), y.iloc[test_index]\n",
    "        logistic_model.fit(X_train, y_train)\n",
    "        y_hat = logistic_model.predict(X_test)\n",
    "        mean_score += f1_score(y_hat, y_test)\n",
    "    print(mean_score/5)\n",
    "\n",
    "evaluation(X, y, LogisticRegression())"
   ]
  },
  {
   "cell_type": "markdown",
   "metadata": {
    "id": "2djR06v1gy6O"
   },
   "source": [
    "#### 3.2.1. Support Vector Regressor"
   ]
  },
  {
   "cell_type": "code",
   "execution_count": null,
   "metadata": {},
   "outputs": [],
   "source": [
    "from sklearn.svm import SVC\n",
    "from sklearn.model_selection import GridSearchCV\n",
    "\n",
    "sc = StandardScaler()\n",
    "X_std = sc.fit_transform(X)\n",
    "# Set the parameters by cross-validation\n",
    "tuned_parameters = [{'kernel': ['rbf', 'linear', 'poly', 'sigmoid'], \n",
    "                     'gamma': [1e-3, 1e-4, 1e-2, 1e-5],\n",
    "                     'C': [1, 10, 100, 500, 1000, 3000]}]\n",
    "\n",
    "clf = GridSearchCV(\n",
    "        SVC(), tuned_parameters, scoring='f1')\n",
    "\n",
    "clf.fit(X_std, y)\n",
    "print(clf.best_params_)"
   ]
  },
  {
   "cell_type": "code",
   "execution_count": null,
   "metadata": {},
   "outputs": [],
   "source": [
    "evaluation(X, y, SVC(kernel=\"rbf\", C=15, gamma=0.001))"
   ]
  },
  {
   "cell_type": "markdown",
   "metadata": {
    "id": "yECu7NHvlvRh"
   },
   "source": [
    "#### 3.2.2. Random Forest Classifier"
   ]
  },
  {
   "cell_type": "code",
   "execution_count": null,
   "metadata": {
    "colab": {
     "base_uri": "https://localhost:8080/",
     "height": 750
    },
    "id": "acLoanhxhHjt",
    "outputId": "5e585c88-e408-4500-af01-229519e1a56b"
   },
   "outputs": [],
   "source": [
    "from sklearn.ensemble import RandomForestClassifier\n",
    "\n",
    "param_grid = {\n",
    "    'n_estimators': [200, 500, 700, 1000],\n",
    "    'max_features': ['auto', 'sqrt', 'log2'],\n",
    "    'max_depth': [2, 3, 5, 7]\n",
    "}\n",
    "\n",
    "CV_rfc = GridSearchCV(estimator=RandomForestClassifier(), param_grid=param_grid, cv= 5)\n",
    "CV_rfc.fit(X_std, y)\n",
    "CV_rfc.best_params_"
   ]
  },
  {
   "cell_type": "code",
   "execution_count": null,
   "metadata": {},
   "outputs": [],
   "source": [
    "evaluation(X, y, RandomForestClassifier(max_depth=13, max_features = \"sqrt\", n_estimators = 200))"
   ]
  },
  {
   "cell_type": "markdown",
   "metadata": {
    "id": "dG0SsANGmCsU"
   },
   "source": [
    "#### 3.2.3. XGBoost"
   ]
  },
  {
   "cell_type": "code",
   "execution_count": null,
   "metadata": {
    "colab": {
     "base_uri": "https://localhost:8080/"
    },
    "id": "1n6Nkz3Rl3wO",
    "outputId": "fb1b4497-3b56-4cb3-a098-8fd71d5acd6a"
   },
   "outputs": [],
   "source": [
    "from xgboost import XGBClassifier\n",
    "\n",
    "sc = StandardScaler()\n",
    "X_std = sc.fit_transform(X)\n",
    "# Set the parameters by cross-validation\n",
    "tuned_parameters = [{\"learning_rate\": [0.05, 0.10, 0.15, 0.20, 0.25, 0.30 ] ,\n",
    "                     \"max_depth\": [ 3, 4, 5, 6, 8, 10, 12, 15],\n",
    "                     \"min_child_weight\": [ 1, 3, 5, 7 ],\n",
    "                     \"gamma\": [ 0.0, 0.1, 0.2 , 0.3, 0.4 ],\n",
    "                     \"colsample_bytree\": [ 0.3, 0.4, 0.5 , 0.7 ],\n",
    "                     \"n_jobs\": [1], # replace \"nthread\"\n",
    "                     \"verbosity\": [0]}]# add this line to slient warning message\n",
    "\n",
    "xgb_gs = GridSearchCV(\n",
    "        XGBClassifier(), tuned_parameters, scoring='f1')\n",
    "\n",
    "xgb_gs.fit(X_std, y)\n",
    "print(xgb_gs.best_params_)"
   ]
  },
  {
   "cell_type": "code",
   "execution_count": null,
   "metadata": {
    "id": "4gSjoHiVmJ5r"
   },
   "outputs": [],
   "source": [
    "\n",
    "evaluation(X, y, XGBClassifier(colsample_bytree= 0.5, gamma= 0.2, learning_rate= 0.05, max_depth= 3, min_child_weight= 5))"
   ]
  },
  {
   "cell_type": "markdown",
   "metadata": {},
   "source": [
    "#### 3.2.4. Clustering"
   ]
  },
  {
   "cell_type": "code",
   "execution_count": null,
   "metadata": {
    "id": "h0fm-U495Gw5"
   },
   "outputs": [],
   "source": [
    "from sklearn.cluster import KMeans\n",
    "from sklearn.pipeline import Pipeline\n",
    "\n",
    "pipeline = Pipeline([\n",
    "    (\"kmeans\", KMeans(n_clusters=20, random_state=42)),\n",
    "    (\"log\", LogisticRegression(max_iter=1000)),\n",
    "])\n",
    "\n",
    "X_train, X_valid, y_train, y_valid = train_test_split(X, y, test_size = 0.2, random_state = 42)\n",
    "\n",
    "pipeline.fit(X_train, y_train)"
   ]
  },
  {
   "cell_type": "code",
   "execution_count": null,
   "metadata": {},
   "outputs": [],
   "source": [
    "pred = pipeline.predict(X_valid)"
   ]
  },
  {
   "cell_type": "code",
   "execution_count": null,
   "metadata": {},
   "outputs": [],
   "source": [
    "f1_score(pred, y_valid)"
   ]
  },
  {
   "cell_type": "code",
   "execution_count": null,
   "metadata": {},
   "outputs": [],
   "source": []
  }
 ],
 "metadata": {
  "colab": {
   "collapsed_sections": [],
   "name": "TFM_final.ipynb",
   "provenance": []
  },
  "kernelspec": {
   "display_name": "Python 3",
   "language": "python",
   "name": "python3"
  },
  "language_info": {
   "codemirror_mode": {
    "name": "ipython",
    "version": 3
   },
   "file_extension": ".py",
   "mimetype": "text/x-python",
   "name": "python",
   "nbconvert_exporter": "python",
   "pygments_lexer": "ipython3",
   "version": "3.8.5"
  }
 },
 "nbformat": 4,
 "nbformat_minor": 4
}
