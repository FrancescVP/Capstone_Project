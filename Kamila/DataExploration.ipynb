{
 "cells": [
  {
   "cell_type": "markdown",
   "metadata": {},
   "source": [
    "### Data Exploration"
   ]
  },
  {
   "cell_type": "code",
   "execution_count": 1,
   "metadata": {
    "scrolled": true
   },
   "outputs": [],
   "source": [
    "import pandas as pd\n",
    "import seaborn as sns\n",
    "%matplotlib inline"
   ]
  },
  {
   "cell_type": "markdown",
   "metadata": {},
   "source": [
    "### Clinical Data"
   ]
  },
  {
   "cell_type": "markdown",
   "metadata": {},
   "source": [
    "Clinical data are stored in excel file 'subject_clinical_data.xlsx'. The file contains the data of both patients with multiple sclerosis (ms) and controls. The columns store the following data:\n",
    "\n",
    "- redcap_event_name - start date of the treatment\n",
    "- dob - data of birth\n",
    "- msonset - date of the onset of MS\n",
    "- nrldata - date of the visit\n",
    "- sex - sex of the patient (0 - female, 1 - male)\n",
    "- dd - ms duration\n",
    "- mstype - fenotype of the ms ( 0: RRMS, 1:SPMS, 2: PPMS)\n",
    "- dmd - does patient receive a treatment (0 - no, 1 - yes)\n",
    "- sdmt - substitution test score(cognitive test)\n",
    "- EDDS - Expanded Disability Status Scale (scale from : 1-10, 0- no symptoms, 10- deceased)\n",
    "\n",
    "Neuropsychological test scores:\n",
    "- zsdmt - normalized substitution test score (according to Spanish norms)\n",
    "- Pasat - Paced Auditory Serial Addition Test score (scores: 0-60) - a neuropsychological cognitive test\n",
    "- Zpasat - z-scores in PASAT tests according to spanish normalization\n",
    "- Zverbalmemory - mean z-score in a verbal memory test\n",
    "- zvisualmemory - mean z-score in a visual memory test\n",
    "- zattention = mean z-score of the sdmt and pasat score\n",
    "- zfluency - score in verbal fluency\n",
    "- zglobal - mean score obtained in all of the neuropsychological tests."
   ]
  },
  {
   "cell_type": "markdown",
   "metadata": {},
   "source": [
    "### Data loading and preparation"
   ]
  },
  {
   "cell_type": "code",
   "execution_count": 2,
   "metadata": {},
   "outputs": [
    {
     "name": "stdout",
     "output_type": "stream",
     "text": [
      "(165, 22)\n"
     ]
    },
    {
     "data": {
      "text/html": [
       "<div>\n",
       "<style scoped>\n",
       "    .dataframe tbody tr th:only-of-type {\n",
       "        vertical-align: middle;\n",
       "    }\n",
       "\n",
       "    .dataframe tbody tr th {\n",
       "        vertical-align: top;\n",
       "    }\n",
       "\n",
       "    .dataframe thead th {\n",
       "        text-align: right;\n",
       "    }\n",
       "</style>\n",
       "<table border=\"1\" class=\"dataframe\">\n",
       "  <thead>\n",
       "    <tr style=\"text-align: right;\">\n",
       "      <th></th>\n",
       "      <th>redcap_event_name</th>\n",
       "      <th>controls_ms</th>\n",
       "      <th>dob</th>\n",
       "      <th>msonset</th>\n",
       "      <th>nrldate</th>\n",
       "      <th>age</th>\n",
       "      <th>sex</th>\n",
       "      <th>dd</th>\n",
       "      <th>mstype</th>\n",
       "      <th>dmd</th>\n",
       "      <th>...</th>\n",
       "      <th>oGMSSS</th>\n",
       "      <th>sdmt</th>\n",
       "      <th>sdmtz</th>\n",
       "      <th>pasat</th>\n",
       "      <th>zpasat</th>\n",
       "      <th>zverbalmemory</th>\n",
       "      <th>zvisualmemory</th>\n",
       "      <th>zattention</th>\n",
       "      <th>zfluency</th>\n",
       "      <th>zglobal</th>\n",
       "    </tr>\n",
       "    <tr>\n",
       "      <th>id</th>\n",
       "      <th></th>\n",
       "      <th></th>\n",
       "      <th></th>\n",
       "      <th></th>\n",
       "      <th></th>\n",
       "      <th></th>\n",
       "      <th></th>\n",
       "      <th></th>\n",
       "      <th></th>\n",
       "      <th></th>\n",
       "      <th></th>\n",
       "      <th></th>\n",
       "      <th></th>\n",
       "      <th></th>\n",
       "      <th></th>\n",
       "      <th></th>\n",
       "      <th></th>\n",
       "      <th></th>\n",
       "      <th></th>\n",
       "      <th></th>\n",
       "      <th></th>\n",
       "    </tr>\n",
       "  </thead>\n",
       "  <tbody>\n",
       "    <tr>\n",
       "      <th>002MSVIS</th>\n",
       "      <td>year3_arm_1</td>\n",
       "      <td>1</td>\n",
       "      <td>1963-09-04</td>\n",
       "      <td>1993-01-10</td>\n",
       "      <td>2015-03-16</td>\n",
       "      <td>51.53</td>\n",
       "      <td>1</td>\n",
       "      <td>22.18</td>\n",
       "      <td>1</td>\n",
       "      <td>0.0</td>\n",
       "      <td>...</td>\n",
       "      <td>8.103</td>\n",
       "      <td>NaN</td>\n",
       "      <td>NaN</td>\n",
       "      <td>55.0</td>\n",
       "      <td>0.2857</td>\n",
       "      <td>NaN</td>\n",
       "      <td>NaN</td>\n",
       "      <td>NaN</td>\n",
       "      <td>NaN</td>\n",
       "      <td>NaN</td>\n",
       "    </tr>\n",
       "    <tr>\n",
       "      <th>003MSVIS</th>\n",
       "      <td>year5_arm_1</td>\n",
       "      <td>1</td>\n",
       "      <td>1959-01-18</td>\n",
       "      <td>2007-07-15</td>\n",
       "      <td>2017-02-08</td>\n",
       "      <td>58.06</td>\n",
       "      <td>0</td>\n",
       "      <td>9.57</td>\n",
       "      <td>2</td>\n",
       "      <td>0.0</td>\n",
       "      <td>...</td>\n",
       "      <td>7.385</td>\n",
       "      <td>38.0</td>\n",
       "      <td>-0.7770</td>\n",
       "      <td>25.0</td>\n",
       "      <td>-2.6600</td>\n",
       "      <td>NaN</td>\n",
       "      <td>NaN</td>\n",
       "      <td>NaN</td>\n",
       "      <td>NaN</td>\n",
       "      <td>NaN</td>\n",
       "    </tr>\n",
       "    <tr>\n",
       "      <th>004MSVIS</th>\n",
       "      <td>year5_arm_1</td>\n",
       "      <td>1</td>\n",
       "      <td>1956-09-16</td>\n",
       "      <td>2010-09-15</td>\n",
       "      <td>2017-06-29</td>\n",
       "      <td>60.78</td>\n",
       "      <td>1</td>\n",
       "      <td>6.79</td>\n",
       "      <td>0</td>\n",
       "      <td>0.0</td>\n",
       "      <td>...</td>\n",
       "      <td>4.966</td>\n",
       "      <td>61.0</td>\n",
       "      <td>1.6250</td>\n",
       "      <td>58.0</td>\n",
       "      <td>0.7142</td>\n",
       "      <td>NaN</td>\n",
       "      <td>NaN</td>\n",
       "      <td>NaN</td>\n",
       "      <td>NaN</td>\n",
       "      <td>NaN</td>\n",
       "    </tr>\n",
       "    <tr>\n",
       "      <th>005MSVIS</th>\n",
       "      <td>year5_arm_1</td>\n",
       "      <td>1</td>\n",
       "      <td>1978-02-01</td>\n",
       "      <td>2007-08-01</td>\n",
       "      <td>2016-01-13</td>\n",
       "      <td>37.95</td>\n",
       "      <td>0</td>\n",
       "      <td>8.45</td>\n",
       "      <td>0</td>\n",
       "      <td>3.0</td>\n",
       "      <td>...</td>\n",
       "      <td>1.922</td>\n",
       "      <td>37.0</td>\n",
       "      <td>-0.5384</td>\n",
       "      <td>NaN</td>\n",
       "      <td>NaN</td>\n",
       "      <td>NaN</td>\n",
       "      <td>NaN</td>\n",
       "      <td>NaN</td>\n",
       "      <td>NaN</td>\n",
       "      <td>NaN</td>\n",
       "    </tr>\n",
       "    <tr>\n",
       "      <th>010MSVIS</th>\n",
       "      <td>year5_arm_1</td>\n",
       "      <td>1</td>\n",
       "      <td>1964-02-13</td>\n",
       "      <td>2007-09-15</td>\n",
       "      <td>2016-10-04</td>\n",
       "      <td>52.64</td>\n",
       "      <td>0</td>\n",
       "      <td>9.05</td>\n",
       "      <td>0</td>\n",
       "      <td>1.0</td>\n",
       "      <td>...</td>\n",
       "      <td>2.649</td>\n",
       "      <td>NaN</td>\n",
       "      <td>NaN</td>\n",
       "      <td>40.0</td>\n",
       "      <td>-0.5000</td>\n",
       "      <td>NaN</td>\n",
       "      <td>NaN</td>\n",
       "      <td>NaN</td>\n",
       "      <td>NaN</td>\n",
       "      <td>NaN</td>\n",
       "    </tr>\n",
       "  </tbody>\n",
       "</table>\n",
       "<p>5 rows × 22 columns</p>\n",
       "</div>"
      ],
      "text/plain": [
       "         redcap_event_name  controls_ms        dob    msonset    nrldate  \\\n",
       "id                                                                         \n",
       "002MSVIS       year3_arm_1            1 1963-09-04 1993-01-10 2015-03-16   \n",
       "003MSVIS       year5_arm_1            1 1959-01-18 2007-07-15 2017-02-08   \n",
       "004MSVIS       year5_arm_1            1 1956-09-16 2010-09-15 2017-06-29   \n",
       "005MSVIS       year5_arm_1            1 1978-02-01 2007-08-01 2016-01-13   \n",
       "010MSVIS       year5_arm_1            1 1964-02-13 2007-09-15 2016-10-04   \n",
       "\n",
       "            age  sex     dd  mstype  dmd  ...  oGMSSS  sdmt   sdmtz  pasat  \\\n",
       "id                                        ...                                \n",
       "002MSVIS  51.53    1  22.18       1  0.0  ...   8.103   NaN     NaN   55.0   \n",
       "003MSVIS  58.06    0   9.57       2  0.0  ...   7.385  38.0 -0.7770   25.0   \n",
       "004MSVIS  60.78    1   6.79       0  0.0  ...   4.966  61.0  1.6250   58.0   \n",
       "005MSVIS  37.95    0   8.45       0  3.0  ...   1.922  37.0 -0.5384    NaN   \n",
       "010MSVIS  52.64    0   9.05       0  1.0  ...   2.649   NaN     NaN   40.0   \n",
       "\n",
       "          zpasat  zverbalmemory  zvisualmemory  zattention  zfluency  zglobal  \n",
       "id                                                                             \n",
       "002MSVIS  0.2857            NaN            NaN         NaN       NaN      NaN  \n",
       "003MSVIS -2.6600            NaN            NaN         NaN       NaN      NaN  \n",
       "004MSVIS  0.7142            NaN            NaN         NaN       NaN      NaN  \n",
       "005MSVIS     NaN            NaN            NaN         NaN       NaN      NaN  \n",
       "010MSVIS -0.5000            NaN            NaN         NaN       NaN      NaN  \n",
       "\n",
       "[5 rows x 22 columns]"
      ]
     },
     "execution_count": 2,
     "metadata": {},
     "output_type": "execute_result"
    }
   ],
   "source": [
    "clinical_data = pd.read_excel('data\\subject_clinical_data.xlsx', index_col = 0)\n",
    "print(clinical_data.shape)\n",
    "clinical_data.head()"
   ]
  },
  {
   "cell_type": "markdown",
   "metadata": {},
   "source": [
    "#### Checking data types"
   ]
  },
  {
   "cell_type": "code",
   "execution_count": 3,
   "metadata": {
    "scrolled": true
   },
   "outputs": [
    {
     "data": {
      "text/plain": [
       "redcap_event_name            object\n",
       "controls_ms                   int64\n",
       "dob                  datetime64[ns]\n",
       "msonset              datetime64[ns]\n",
       "nrldate              datetime64[ns]\n",
       "age                         float64\n",
       "sex                           int64\n",
       "dd                          float64\n",
       "mstype                        int64\n",
       "dmd                         float64\n",
       "edss                        float64\n",
       "uGMSSS                      float64\n",
       "oGMSSS                      float64\n",
       "sdmt                        float64\n",
       "sdmtz                       float64\n",
       "pasat                       float64\n",
       "zpasat                      float64\n",
       "zverbalmemory               float64\n",
       "zvisualmemory               float64\n",
       "zattention                  float64\n",
       "zfluency                    float64\n",
       "zglobal                     float64\n",
       "dtype: object"
      ]
     },
     "execution_count": 3,
     "metadata": {},
     "output_type": "execute_result"
    }
   ],
   "source": [
    "clinical_data.dtypes"
   ]
  },
  {
   "cell_type": "markdown",
   "metadata": {},
   "source": [
    "We may observe that some of the categorical data (mstype, sex, edss) are stored as integers. We will change their type to categories."
   ]
  },
  {
   "cell_type": "code",
   "execution_count": 4,
   "metadata": {},
   "outputs": [
    {
     "data": {
      "text/plain": [
       "redcap_event_name            object\n",
       "controls_ms                   int64\n",
       "dob                  datetime64[ns]\n",
       "msonset              datetime64[ns]\n",
       "nrldate              datetime64[ns]\n",
       "age                         float64\n",
       "sex                        category\n",
       "dd                          float64\n",
       "mstype                     category\n",
       "dmd                         float64\n",
       "edss                       category\n",
       "uGMSSS                      float64\n",
       "oGMSSS                      float64\n",
       "sdmt                        float64\n",
       "sdmtz                       float64\n",
       "pasat                       float64\n",
       "zpasat                      float64\n",
       "zverbalmemory               float64\n",
       "zvisualmemory               float64\n",
       "zattention                  float64\n",
       "zfluency                    float64\n",
       "zglobal                     float64\n",
       "dtype: object"
      ]
     },
     "execution_count": 4,
     "metadata": {},
     "output_type": "execute_result"
    }
   ],
   "source": [
    "for col in [\"mstype\", \"sex\", \"edss\"]:\n",
    "    clinical_data[col] = clinical_data[col].astype('category')\n",
    "clinical_data.dtypes"
   ]
  },
  {
   "cell_type": "markdown",
   "metadata": {},
   "source": [
    "#### Missing values"
   ]
  },
  {
   "cell_type": "code",
   "execution_count": 5,
   "metadata": {},
   "outputs": [
    {
     "name": "stdout",
     "output_type": "stream",
     "text": [
      "Missing values (%): \n",
      "                    alldata  patients  controls\n",
      "redcap_event_name    10.91      0.00    100.00\n",
      "controls_ms           0.00      0.00      0.00\n",
      "dob                   4.85      0.00     44.44\n",
      "msonset              10.91      0.00    100.00\n",
      "nrldate               4.85      0.00     44.44\n",
      "age                   0.00      0.00      0.00\n",
      "sex                   0.00      0.00      0.00\n",
      "dd                    0.00      0.00      0.00\n",
      "mstype                0.00      0.00      0.00\n",
      "dmd                  11.52      0.68    100.00\n",
      "edss                  0.00      0.00      0.00\n",
      "uGMSSS               10.91      0.00    100.00\n",
      "oGMSSS               10.91      0.00    100.00\n",
      "sdmt                 26.06     17.01    100.00\n",
      "sdmtz                26.06     17.01    100.00\n",
      "pasat                17.58      7.48    100.00\n",
      "zpasat               24.24     14.97    100.00\n",
      "zverbalmemory        61.21     56.46    100.00\n",
      "zvisualmemory        61.21     56.46    100.00\n",
      "zattention           62.42     57.82    100.00\n",
      "zfluency             61.21     56.46    100.00\n",
      "zglobal              62.42     57.82    100.00\n"
     ]
    }
   ],
   "source": [
    "pd.options.display.float_format = '{:,.2f}'.format\n",
    "alldata = clinical_data.isna().sum()*100/len(clinical_data)\n",
    "controls = clinical_data.loc[clinical_data[\"controls_ms\"] == 0].isna().sum()*100/len(clinical_data.loc[clinical_data[\"controls_ms\"] == 0])\n",
    "patients = clinical_data.loc[clinical_data[\"controls_ms\"] == 1].isna().sum()*100/len(clinical_data.loc[clinical_data[\"controls_ms\"] == 1])\n",
    "data = {\"alldata\": alldata,\n",
    "        \"patients\": patients,\n",
    "        \"controls\": controls}\n",
    "\n",
    "mv = pd.concat(data, axis = 1)\n",
    "print(\"Missing values (%):\", \"\\n\", mv)\n"
   ]
  },
  {
   "cell_type": "markdown",
   "metadata": {},
   "source": [
    "As we can see the file contains a lot of the missing data. The problems of missing data concerns the cognitive tests (zverbalmemory, zvisualmemory,zattention, zfluency, zglobal). As we can see some of the tests were performed in less than 50% of the patients. People from the control group didn't undergo the neuropsycholical tests as these test are designed to detect neuropsychological deficits which shouldn't be present in healthy population. Therefore we remove the columns with the most missing values from the dataframe (>50% of NA)."
   ]
  },
  {
   "cell_type": "code",
   "execution_count": 6,
   "metadata": {},
   "outputs": [
    {
     "data": {
      "text/plain": [
       "(165, 16)"
      ]
     },
     "execution_count": 6,
     "metadata": {},
     "output_type": "execute_result"
    }
   ],
   "source": [
    "clinical_data.drop(columns = ['redcap_event_name','zverbalmemory','zvisualmemory', 'zattention', 'zfluency', 'zglobal'], inplace = True)\n",
    "clinical_data.shape"
   ]
  },
  {
   "cell_type": "markdown",
   "metadata": {},
   "source": [
    "### Data exploration"
   ]
  },
  {
   "cell_type": "markdown",
   "metadata": {},
   "source": [
    "#### Control group *vs.* Patients\n",
    "First, we investigate the distribution of data in both groups. And then we will compare groups"
   ]
  },
  {
   "cell_type": "code",
   "execution_count": 12,
   "metadata": {},
   "outputs": [
    {
     "name": "stdout",
     "output_type": "stream",
     "text": [
      "Control Group: \n",
      "        controls_ms   age    dd  dmd  sdmtz\n",
      "count        18.00 18.00 18.00 0.00   0.00\n",
      "mean          0.00 36.62 -1.00  nan    nan\n",
      "std           0.00  9.60  0.00  nan    nan\n",
      "min           0.00 23.46 -1.00  nan    nan\n",
      "25%           0.00 28.64 -1.00  nan    nan\n",
      "50%           0.00 36.25 -1.00  nan    nan\n",
      "75%           0.00 43.18 -1.00  nan    nan\n",
      "max           0.00 55.70 -1.00  nan    nan \n",
      "\n",
      "Patients: \n",
      "        controls_ms    age     dd    dmd  uGMSSS  oGMSSS   sdmt  sdmtz  pasat  \\\n",
      "count       147.00 147.00 147.00 146.00  147.00  147.00 122.00 122.00 136.00   \n",
      "mean          1.00  47.33  15.96   2.53    3.03    2.50  47.98   0.08  44.62   \n",
      "std           0.00  10.15   9.05   3.17    2.01    1.96  13.35   1.06  12.50   \n",
      "min           1.00  22.66   2.72   0.00    0.49    0.23  13.00  -4.17   8.00   \n",
      "25%           1.00  39.91   9.25   0.00    1.42    0.94  38.00  -0.54  38.75   \n",
      "50%           1.00  46.68  13.92   1.00    2.53    1.92  49.00   0.20  48.50   \n",
      "75%           1.00  54.39  20.29   4.75    4.39    3.49  56.00   0.64  54.00   \n",
      "max           1.00  72.22  46.13  14.00    9.29    9.13  92.00   3.00  60.00   \n",
      "\n",
      "       zpasat  \n",
      "count  125.00  \n",
      "mean    -0.29  \n",
      "std      1.33  \n",
      "min     -5.14  \n",
      "25%     -0.86  \n",
      "50%      0.00  \n",
      "75%      0.70  \n",
      "max      1.75  \n",
      "\n",
      ",\n",
      " Control Group: \n",
      "         sex  mstype  edss\n",
      "count    18      18 18.00\n",
      "unique    2       1  1.00\n",
      "top       0      -1  0.00\n",
      "freq     15      18 18.00 \n",
      "\n",
      "\n",
      " \n",
      " Patients: \n",
      "         sex  mstype   edss\n",
      "count   147     147 147.00\n",
      "unique    2       3  14.00\n",
      "top       0       0   1.50\n",
      "freq    104     125  37.00\n"
     ]
    },
    {
     "name": "stderr",
     "output_type": "stream",
     "text": [
      "C:\\Users\\kamil\\anaconda3\\lib\\site-packages\\pandas\\core\\frame.py:3990: SettingWithCopyWarning: \n",
      "A value is trying to be set on a copy of a slice from a DataFrame\n",
      "\n",
      "See the caveats in the documentation: https://pandas.pydata.org/pandas-docs/stable/user_guide/indexing.html#returning-a-view-versus-a-copy\n",
      "  return super().drop(\n"
     ]
    }
   ],
   "source": [
    "controls = clinical_data.loc[clinical_data[\"controls_ms\"] == 0]\n",
    "controls.drop(columns= [\"uGMSSS\", \"oGMSSS\", \"sdmt\", \"pasat\", \"zpasat\"], inplace = True) #delete columns with 100% NaNs\n",
    "patients = clinical_data.loc[clinical_data[\"controls_ms\"] == 1]\n",
    "print(\"Control Group:\" ,\"\\n\", controls.describe(), \"\\n\")\n",
    "print(\"Patients:\",\"\\n\", patients.describe())\n",
    "print(\"\\n,\\n\",\"Control Group:\" ,\"\\n\", controls.describe(include = 'category'), \"\\n\")\n",
    "print(\"\\n\", \"\\n\",\"Patients:\",\"\\n\", patients.describe(include='category'))\n"
   ]
  },
  {
   "cell_type": "code",
   "execution_count": 8,
   "metadata": {},
   "outputs": [
    {
     "data": {
      "text/plain": [
       "<seaborn.axisgrid.FacetGrid at 0x1a4d3ef5760>"
      ]
     },
     "execution_count": 8,
     "metadata": {},
     "output_type": "execute_result"
    },
    {
     "data": {
      "image/png": "[encoded data removed]",
      "text/plain": [
       "<Figure size 432x216 with 2 Axes>"
      ]
     },
     "metadata": {},
     "output_type": "display_data"
    }
   ],
   "source": [
    "sns.set_theme(style=\"darkgrid\")\n",
    "sns.displot(\n",
    "    clinical_data, x=\"age\", col=\"controls_ms\",\n",
    "    binwidth=3, height=3, facet_kws=dict(margin_titles=True),\n",
    ")"
   ]
  },
  {
   "cell_type": "code",
   "execution_count": 9,
   "metadata": {},
   "outputs": [],
   "source": [
    "controls = clinical_data.loc[clinical_data[\"controls_ms\"] == 0]\n",
    "patients = clinical_data.loc[clinical_data[\"controls_ms\"] == 1]"
   ]
  },
  {
   "cell_type": "markdown",
   "metadata": {},
   "source": []
  },
  {
   "cell_type": "markdown",
   "metadata": {},
   "source": [
    "#### Control group *vs.* Patients"
   ]
  },
  {
   "cell_type": "code",
   "execution_count": null,
   "metadata": {},
   "outputs": [],
   "source": [
    "In this part we will compare"
   ]
  }
 ],
 "metadata": {
  "kernelspec": {
   "display_name": "Python 3",
   "language": "python",
   "name": "python3"
  },
  "language_info": {
   "codemirror_mode": {
    "name": "ipython",
    "version": 3
   },
   "file_extension": ".py",
   "mimetype": "text/x-python",
   "name": "python",
   "nbconvert_exporter": "python",
   "pygments_lexer": "ipython3",
   "version": "3.8.3"
  }
 },
 "nbformat": 4,
 "nbformat_minor": 4
}
