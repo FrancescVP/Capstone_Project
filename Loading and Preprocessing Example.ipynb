{
 "metadata": {
  "language_info": {
   "codemirror_mode": {
    "name": "ipython",
    "version": 3
   },
   "file_extension": ".py",
   "mimetype": "text/x-python",
   "name": "python",
   "nbconvert_exporter": "python",
   "pygments_lexer": "ipython3",
   "version": "3.8.2"
  },
  "orig_nbformat": 2,
  "kernelspec": {
   "name": "python382jvsc74a57bd0607dab78e5b01418678e2ed452cc71b204d428fef5264ef64884a8608f31e7a9",
   "display_name": "Python 3.8.2 32-bit"
  },
  "metadata": {
   "interpreter": {
    "hash": "607dab78e5b01418678e2ed452cc71b204d428fef5264ef64884a8608f31e7a9"
   }
  }
 },
 "nbformat": 4,
 "nbformat_minor": 2,
 "cells": [
  {
   "source": [
    "## **Libraries**"
   ],
   "cell_type": "markdown",
   "metadata": {}
  },
  {
   "cell_type": "code",
   "execution_count": 1,
   "metadata": {},
   "outputs": [],
   "source": [
    "# Data Load Code\n",
    "from load_data import data_loader\n",
    "\n",
    "# Preprocessing functions\n",
    "from preprocessing import connectivity_test, linear_correction, harmonization"
   ]
  },
  {
   "source": [
    "## **Load the data**"
   ],
   "cell_type": "markdown",
   "metadata": {}
  },
  {
   "cell_type": "code",
   "execution_count": 2,
   "metadata": {},
   "outputs": [],
   "source": [
    "full_dataset, fa, func, gm = data_loader(unzip=True)"
   ]
  },
  {
   "source": [
    "## **Data Preprocessing**"
   ],
   "cell_type": "markdown",
   "metadata": {}
  },
  {
   "cell_type": "code",
   "execution_count": 3,
   "metadata": {},
   "outputs": [
    {
     "output_type": "stream",
     "name": "stdout",
     "text": [
      "[neuroCombat] Creating design matrix\n[neuroCombat] Standardizing data across features\n[neuroCombat] Fitting L/S model and finding priors\n[neuroCombat] Finding parametric adjustments\n[neuroCombat] Final adjustment of data\n"
     ]
    }
   ],
   "source": [
    "# Clinical Data\n",
    "\n",
    "clinical_data = fa.iloc[:, -5:]\n",
    "\n",
    "# Connectivity test\n",
    "index = connectivity_test(fa.iloc[:, :-5], clinical_data)\n",
    "\n",
    "fa = fa.iloc[:, index]\n",
    "func = func.iloc[:, index]\n",
    "gm = gm.iloc[:, index]\n",
    "\n",
    "# age and sex corrections\n",
    "fa = linear_correction(clinical_data, fa)\n",
    "func = linear_correction(clinical_data, func)\n",
    "gm = linear_correction(clinical_data, gm)\n",
    "\n",
    "# harmonization\n",
    "fa = harmonization(fa.iloc[:, :-5], clinical_data)"
   ]
  }
 ]
}